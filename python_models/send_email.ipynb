{
 "cells": [
  {
   "cell_type": "code",
   "execution_count": 1,
   "metadata": {},
   "outputs": [],
   "source": [
    "import smtplib\n",
    "def SendEmail(topic, message):\n",
    "    sender_address = \"barth.anhorn@gmail.com\" # Replace this with your Gmail address\n",
    "\n",
    "    receiver_address = \"bart@anhorn.ch\" # Replace this with any valid email address\n",
    "\n",
    "    account_password = \"rolwefhqqrqdgnto\" # Replace this with your Gmail account password\n",
    "\n",
    "    subject = topic\n",
    "\n",
    "    body = message\n",
    "\n",
    "    # Endpoint for the SMTP Gmail server (Don't change this!)\n",
    "    smtp_server = smtplib.SMTP_SSL(\"smtp.gmail.com\", 465)\n",
    "\n",
    "    # Login with your Gmail account using SMTP\n",
    "    smtp_server.login(sender_address, account_password)\n",
    "\n",
    "    # Let's combine the subject and the body onto a single message\n",
    "    message = f\"Subject: {subject}\\n\\n{body}\"\n",
    "\n",
    "    # We'll be sending this message in the above format (Subject:...\\n\\nBody)\n",
    "    smtp_server.sendmail(sender_address, receiver_address, message)\n",
    "\n",
    "    # Close our endpoint\n",
    "    smtp_server.close()"
   ]
  }
 ],
 "metadata": {
  "kernelspec": {
   "display_name": "Python 3",
   "language": "python",
   "name": "python3"
  },
  "language_info": {
   "codemirror_mode": {
    "name": "ipython",
    "version": 3
   },
   "file_extension": ".py",
   "mimetype": "text/x-python",
   "name": "python",
   "nbconvert_exporter": "python",
   "pygments_lexer": "ipython3",
   "version": "3.8.5"
  }
 },
 "nbformat": 4,
 "nbformat_minor": 4
}
