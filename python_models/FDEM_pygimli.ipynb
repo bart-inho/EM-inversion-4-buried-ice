{
 "cells": [
  {
   "cell_type": "code",
   "execution_count": 47,
   "metadata": {},
   "outputs": [],
   "source": [
    "import matplotlib.pyplot as plt\n",
    "import numpy as np\n",
    "import pygimli as pg"
   ]
  },
  {
   "cell_type": "markdown",
   "metadata": {},
   "source": [
    "# Modèle EM - Frenquency domaine"
   ]
  },
  {
   "cell_type": "code",
   "execution_count": 48,
   "metadata": {},
   "outputs": [],
   "source": [
    "# Modèle de resistivité :\n",
    "res_map = np.empty((30,50),dtype='float')\n",
    "res_map[0:10,:] = 1/1e-3\n",
    "res_map[10:20,:] = 1/1e-4\n",
    "res_map[20:30,:] = 2/1e-3"
   ]
  },
  {
   "cell_type": "code",
   "execution_count": 49,
   "metadata": {},
   "outputs": [
    {
     "data": {
      "image/png": "[encoded data removed]",
      "text/plain": [
       "<Figure size 432x288 with 1 Axes>"
      ]
     },
     "metadata": {
      "needs_background": "light"
     },
     "output_type": "display_data"
    }
   ],
   "source": [
    "plt.imshow(res_map)\n",
    "plt.xlabel('x')\n",
    "plt.ylabel('Depth');"
   ]
  },
  {
   "cell_type": "code",
   "execution_count": 50,
   "metadata": {
    "scrolled": true
   },
   "outputs": [],
   "source": [
    "position_x = 24 # position initiale du modèle\n",
    "noiseEM = 1 \n",
    "nlay = 40\n",
    "thickness = 1\n",
    "\n",
    "thk = pg.Vector(nlay - 1, thickness)  # épaisseur de chaque couche (1m)\n",
    "centroids = np.cumsum(thk)-thk/2 # centroïde des couches\n",
    "\n",
    "# On sample dans le model \"res_map\" la résistivité correspondant aux position de couches. \n",
    "res_EM = np.ones(nlay) *  res_map[0,position_x]"
   ]
  },
  {
   "cell_type": "markdown",
   "metadata": {},
   "source": [
    "Inversion de l'indexing :\n",
    "\n",
    "- référence en bas à gauche et en haut à gauche\n",
    "\n",
    "- si on prend le 0 du premier modèle il faut le placer dans le 0 de l'autre et inversément\n",
    "    "
   ]
  },
  {
   "cell_type": "code",
   "execution_count": 51,
   "metadata": {},
   "outputs": [],
   "source": [
    "for i in centroids:\n",
    "    if i < 30:\n",
    "        ab = 29 - np.round((i-0.01)).astype(int) # index dans le modèle resmap\n",
    "        ab2 = np.floor(i/thickness).astype(int) # index dans le modèle EM\n",
    "        res_EM[ab2] = res_map[ab,position_x]"
   ]
  },
  {
   "cell_type": "markdown",
   "metadata": {},
   "source": [
    "Mise en commun des modèles"
   ]
  },
  {
   "cell_type": "code",
   "execution_count": 52,
   "metadata": {},
   "outputs": [
    {
     "data": {
      "image/png": "[encoded data removed]",
      "text/plain": [
       "<Figure size 432x288 with 1 Axes>"
      ]
     },
     "metadata": {
      "needs_background": "light"
     },
     "output_type": "display_data"
    }
   ],
   "source": [
    "model = pg.cat(thk, res_EM)\n",
    "noiseEM = 1\n",
    "plt.plot(np.array(res_EM)[:-1],np.array(centroids));"
   ]
  },
  {
   "cell_type": "markdown",
   "metadata": {},
   "source": [
    "Valeurs du model :"
   ]
  },
  {
   "cell_type": "code",
   "execution_count": 53,
   "metadata": {},
   "outputs": [
    {
     "data": {
      "text/plain": [
       "array([1.e+00, 1.e+00, 1.e+00, 1.e+00, 1.e+00, 1.e+00, 1.e+00, 1.e+00,\n",
       "       1.e+00, 1.e+00, 1.e+00, 1.e+00, 1.e+00, 1.e+00, 1.e+00, 1.e+00,\n",
       "       1.e+00, 1.e+00, 1.e+00, 1.e+00, 1.e+00, 1.e+00, 1.e+00, 1.e+00,\n",
       "       1.e+00, 1.e+00, 1.e+00, 1.e+00, 1.e+00, 1.e+00, 1.e+00, 1.e+00,\n",
       "       1.e+00, 1.e+00, 1.e+00, 1.e+00, 1.e+00, 1.e+00, 1.e+00, 2.e+03,\n",
       "       2.e+03, 2.e+03, 2.e+03, 2.e+03, 2.e+03, 2.e+03, 2.e+03, 2.e+03,\n",
       "       2.e+03, 1.e+04, 1.e+04, 1.e+04, 1.e+04, 1.e+04, 1.e+04, 1.e+04,\n",
       "       1.e+04, 1.e+04, 1.e+04, 1.e+03, 1.e+03, 1.e+03, 1.e+03, 1.e+03,\n",
       "       1.e+03, 1.e+03, 1.e+03, 1.e+03, 1.e+03, 1.e+03, 1.e+03, 1.e+03,\n",
       "       1.e+03, 1.e+03, 1.e+03, 1.e+03, 1.e+03, 1.e+03, 1.e+03])"
      ]
     },
     "execution_count": 53,
     "metadata": {},
     "output_type": "execute_result"
    }
   ],
   "source": [
    "model.array()"
   ]
  },
  {
   "cell_type": "markdown",
   "metadata": {},
   "source": [
    "Fréquences utilisées"
   ]
  },
  {
   "cell_type": "code",
   "execution_count": 54,
   "metadata": {},
   "outputs": [],
   "source": [
    "coilspacing = 10\n",
    "nf = 10\n",
    "freq = pg.Vector(nf)\n",
    "freq[0] = 100\n",
    "freq[1] = 400\n",
    "freq[2] = 600\n",
    "freq[3] = 1000\n",
    "freq[4] = 5000\n",
    "freq[5] = 8000\n",
    "freq[6] = 9000\n",
    "freq[7] = 10000\n",
    "freq[8] = 20000\n",
    "freq[9] = 30000"
   ]
  },
  {
   "cell_type": "markdown",
   "metadata": {},
   "source": [
    "Fonction du modèle"
   ]
  },
  {
   "cell_type": "code",
   "execution_count": 55,
   "metadata": {},
   "outputs": [],
   "source": [
    "fEM = pg.core.FDEM1dModelling(nlay, freq, coilspacing) # coilspacing : espacement des boucles\n",
    "dataEM = fEM(model)"
   ]
  },
  {
   "cell_type": "markdown",
   "metadata": {},
   "source": [
    "Bruit possible :"
   ]
  },
  {
   "cell_type": "code",
   "execution_count": 56,
   "metadata": {},
   "outputs": [],
   "source": [
    "for i in range(len(dataEM)):\n",
    "    dataEM[i] += np.random.random(1)[0] * 0.1"
   ]
  },
  {
   "cell_type": "markdown",
   "metadata": {},
   "source": [
    "Plot du modèle :"
   ]
  },
  {
   "cell_type": "code",
   "execution_count": 57,
   "metadata": {},
   "outputs": [
    {
     "data": {
      "image/png": "[encoded data removed]",
      "text/plain": [
       "<Figure size 432x288 with 1 Axes>"
      ]
     },
     "metadata": {
      "needs_background": "light"
     },
     "output_type": "display_data"
    }
   ],
   "source": [
    "plt.scatter(dataEM[:nf], freq, marker = 'x')\n",
    "plt.scatter(dataEM[nf:nf*2], freq, marker = 'o')\n",
    "plt.yscale('log')\n",
    "plt.ylim((min(freq), max(freq)))\n",
    "plt.grid(which='both')\n",
    "plt.xlabel('Phase %')\n",
    "plt.ylabel('$f$ $[Hz]$');"
   ]
  },
  {
   "cell_type": "markdown",
   "metadata": {},
   "source": [
    "Alternative qui utilise des fonctions équivalentes "
   ]
  },
  {
   "cell_type": "code",
   "execution_count": 58,
   "metadata": {},
   "outputs": [],
   "source": [
    "#Une autre méthode pour comparer. Ca a l'air de donner les memes datas\n",
    "Data_box_FEM = pg.physics.em.FDEM(x=[1],freqs=freq,coilSpacing=coilspacing)\n",
    "FOP = pg.core.FDEM1dRhoModelling(centroids, Data_box_FEM.freq(), Data_box_FEM.coilSpacing,-Data_box_FEM.height)\n",
    "dataEM = FOP(res_EM)"
   ]
  },
  {
   "cell_type": "code",
   "execution_count": 59,
   "metadata": {},
   "outputs": [
    {
     "data": {
      "image/png": "[encoded data removed]",
      "text/plain": [
       "<Figure size 432x288 with 1 Axes>"
      ]
     },
     "metadata": {
      "needs_background": "light"
     },
     "output_type": "display_data"
    }
   ],
   "source": [
    "plt.scatter(dataEM[:nf], freq, marker = 'x')\n",
    "plt.scatter(dataEM[nf:nf*2], freq, marker = 'o')\n",
    "plt.yscale('log')\n",
    "plt.ylim((min(freq), max(freq)))\n",
    "plt.grid(which='both')\n",
    "plt.xlabel('Phase %')\n",
    "plt.ylabel('$f$ $[Hz]$');"
   ]
  },
  {
   "cell_type": "markdown",
   "metadata": {},
   "source": [
    "## Inversion FDEM\n",
    "\n",
    "But : retrouver notre modèle initial à partir des données"
   ]
  },
  {
   "cell_type": "code",
   "execution_count": 60,
   "metadata": {},
   "outputs": [],
   "source": [
    "transRhoa = pg.trans.TransLog() # paramètre initial - no limit sur les couches\n",
    "transThk = pg.trans.TransLog()\n",
    "transRes = pg.trans.TransLogLU(1., 1000.) # limitation des résistivités - entre 1 et 1000 ohmm\n",
    "transEM = pg.trans.Trans()"
   ]
  },
  {
   "cell_type": "markdown",
   "metadata": {},
   "source": [
    "nombre de couche au modèle"
   ]
  },
  {
   "cell_type": "code",
   "execution_count": 61,
   "metadata": {},
   "outputs": [],
   "source": [
    "nLayer_inv = 20 # nombre de layer du modèle inverse"
   ]
  },
  {
   "cell_type": "markdown",
   "metadata": {},
   "source": [
    "Modèle initial, avant inversion. 2m de couches, uniformes à 10 ohmm"
   ]
  },
  {
   "cell_type": "code",
   "execution_count": 62,
   "metadata": {},
   "outputs": [],
   "source": [
    "thk_inv = pg.Vector(nLayer_inv - 1, 2)  # 2m d'épaisseur par couches\n",
    "res_inv = np.ones(nLayer_inv) *  1000\n",
    "initial_model = pg.cat(thk_inv, res_inv)  # mise en commun du modèle"
   ]
  },
  {
   "cell_type": "code",
   "execution_count": 63,
   "metadata": {},
   "outputs": [],
   "source": [
    "fEM_inv = pg.core.FDEM1dModelling(nLayer_inv, freq, coilspacing)\n",
    "fEM_inv.region(0).setTransModel(transThk)\n",
    "fEM_inv.region(1).setTransModel(transRes)\n",
    "lamEM =  100 # paramètre de régulation pour le modèle"
   ]
  },
  {
   "cell_type": "markdown",
   "metadata": {},
   "source": [
    "Les fameux modèles -> non uniqueness des solutions qui dépendent des paramètres."
   ]
  },
  {
   "cell_type": "code",
   "execution_count": 64,
   "metadata": {},
   "outputs": [],
   "source": [
    "invEM = pg.core.Inversion(dataEM, fEM_inv, transEM)\n",
    "invEM.setModel(initial_model)\n",
    "invEM.setRelativeError(0.1/100)\n",
    "invEM.setLambda(lamEM)\n",
    "invEM.setMarquardtScheme(0.8)\n",
    "invEM.setDeltaPhiAbortPercent(0.00001)\n",
    "invEM.setMaxIter(40)\n",
    "invEM.setBlockyModel(True)"
   ]
  },
  {
   "cell_type": "markdown",
   "metadata": {},
   "source": [
    "Finalisation du modèle EM"
   ]
  },
  {
   "cell_type": "code",
   "execution_count": 65,
   "metadata": {},
   "outputs": [],
   "source": [
    "modelEM = invEM.run()\n",
    "respEM = invEM.response()"
   ]
  },
  {
   "cell_type": "markdown",
   "metadata": {},
   "source": [
    "Données"
   ]
  },
  {
   "cell_type": "code",
   "execution_count": 66,
   "metadata": {},
   "outputs": [
    {
     "data": {
      "text/plain": [
       "array([  1.9837587 ,   2.01145618,   2.01261884,   2.00186986,\n",
       "         1.99982025,   2.00209406,   1.99945951,   2.00242562,\n",
       "         1.99917671,   2.00222353,   1.99950391,   2.00221189,\n",
       "         1.99937484,   2.00232006,   1.99937143,   2.00222247,\n",
       "         1.99949849,   2.00221594,   1.99788685, 999.99999   ,\n",
       "       999.99999   , 999.99999   , 999.99999   , 999.99999   ,\n",
       "       999.99999   , 999.99999   , 999.99999   , 999.99999   ,\n",
       "       999.99999   , 999.99999   , 999.99999   , 999.99999   ,\n",
       "       999.99999   , 999.99999   , 999.99999   , 999.99999   ,\n",
       "       999.99999   , 999.99999   , 999.99999001])"
      ]
     },
     "execution_count": 66,
     "metadata": {},
     "output_type": "execute_result"
    }
   ],
   "source": [
    "np.array(modelEM)"
   ]
  },
  {
   "cell_type": "markdown",
   "metadata": {},
   "source": [
    "Plot"
   ]
  },
  {
   "cell_type": "code",
   "execution_count": 67,
   "metadata": {},
   "outputs": [
    {
     "data": {
      "image/png": "[encoded data removed]",
      "text/plain": [
       "<Figure size 432x288 with 1 Axes>"
      ]
     },
     "metadata": {
      "needs_background": "light"
     },
     "output_type": "display_data"
    }
   ],
   "source": [
    "plt.semilogy(dataEM[0:nf], freq, 'bx', label='syn In-Phase')\n",
    "plt.semilogy(dataEM[nf:nf*2], freq, 'bo', label='syn Out Phase')\n",
    "plt.semilogy(respEM[0:nf], freq, 'rx', label='syn In-Phase - Inv')\n",
    "plt.semilogy(respEM[nf:nf*2], freq, 'ro', label='syn Out Phase - Inv')\n",
    "plt.ylim((min(freq), max(freq)))\n",
    "plt.xlabel(\"Phase in %\")\n",
    "plt.ylabel(\"$f$ in Hz\")\n",
    "plt.grid(which='both')\n",
    "plt.legend(loc=\"best\");"
   ]
  },
  {
   "cell_type": "markdown",
   "metadata": {},
   "source": [
    "Reconstruction du modèle initial"
   ]
  },
  {
   "cell_type": "code",
   "execution_count": 68,
   "metadata": {},
   "outputs": [],
   "source": [
    "model_Final = np.array(modelEM)\n",
    "cetr = np.cumsum(model_Final[0:nLayer_inv-2])\n",
    "res_Final = model_Final[nLayer_inv-1:-2]"
   ]
  },
  {
   "cell_type": "code",
   "execution_count": 69,
   "metadata": {
    "scrolled": false
   },
   "outputs": [
    {
     "data": {
      "image/png": "[encoded data removed]",
      "text/plain": [
       "<Figure size 864x576 with 1 Axes>"
      ]
     },
     "metadata": {
      "needs_background": "light"
     },
     "output_type": "display_data"
    }
   ],
   "source": [
    "fig, ax = plt.subplots(figsize = ((12,8)))\n",
    "pg.viewer.mpl.drawModel1D(ax, values=res_Final, depths=cetr,plot='semilogx', \n",
    "                          color='blue',label='Initial Model')\n",
    "pg.viewer.mpl.drawModel1D(ax, values=res_EM[:-1], depths=centroids,plot='semilogx', \n",
    "                          color='red',label='Inverted Model')\n",
    "plt.legend();"
   ]
  }
 ],
 "metadata": {
  "kernelspec": {
   "display_name": "Python 3",
   "language": "python",
   "name": "python3"
  },
  "language_info": {
   "codemirror_mode": {
    "name": "ipython",
    "version": 3
   },
   "file_extension": ".py",
   "mimetype": "text/x-python",
   "name": "python",
   "nbconvert_exporter": "python",
   "pygments_lexer": "ipython3",
   "version": "3.7.9"
  }
 },
 "nbformat": 4,
 "nbformat_minor": 4
}
