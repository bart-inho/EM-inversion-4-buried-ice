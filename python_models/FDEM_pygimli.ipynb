{
 "cells": [
  {
   "cell_type": "code",
   "execution_count": 1,
   "metadata": {},
   "outputs": [],
   "source": [
    "import matplotlib.pyplot as plt\n",
    "import numpy as np\n",
    "import pygimli as pg"
   ]
  },
  {
   "cell_type": "markdown",
   "metadata": {},
   "source": [
    "# Modèle EM - Frenquency domaine"
   ]
  },
  {
   "cell_type": "code",
   "execution_count": 2,
   "metadata": {},
   "outputs": [],
   "source": [
    "# Modèle de resistivité :\n",
    "res_map = np.empty((30,50),dtype='float')\n",
    "res_map[0:10,:] = 1/1e-3\n",
    "res_map[10:20,:] = 1/1e-4\n",
    "res_map[20:30,:] = 2/1e-3"
   ]
  },
  {
   "cell_type": "code",
   "execution_count": 3,
   "metadata": {},
   "outputs": [
    {
     "data": {
      "image/png": "[encoded data removed]",
      "text/plain": [
       "<Figure size 432x288 with 1 Axes>"
      ]
     },
     "metadata": {
      "needs_background": "light"
     },
     "output_type": "display_data"
    }
   ],
   "source": [
    "plt.imshow(res_map)\n",
    "plt.xlabel('x')\n",
    "plt.ylabel('Depth');"
   ]
  },
  {
   "cell_type": "code",
   "execution_count": 4,
   "metadata": {
    "scrolled": true
   },
   "outputs": [],
   "source": [
    "position_x = 24 # position initiale du modèle\n",
    "noiseEM = 1 \n",
    "nlay = 100\n",
    "thickness = 1\n",
    "\n",
    "thk = pg.Vector(nlay - 1, thickness)  # épaisseur de chaque couche (1m)\n",
    "centroids = np.cumsum(thk)-thk/2 # centroïde des couches\n",
    "\n",
    "# On sample dans le model \"res_map\" la résistivité correspondant aux position de couches. \n",
    "res_EM = np.ones(nlay) *  res_map[0,position_x]"
   ]
  },
  {
   "cell_type": "code",
   "execution_count": 23,
   "metadata": {},
   "outputs": [
    {
     "data": {
      "text/plain": [
       "array([ 0.5,  1.5,  2.5,  3.5,  4.5,  5.5,  6.5,  7.5,  8.5,  9.5, 10.5,\n",
       "       11.5, 12.5, 13.5, 14.5, 15.5, 16.5, 17.5, 18.5, 19.5, 20.5, 21.5,\n",
       "       22.5, 23.5, 24.5, 25.5, 26.5, 27.5, 28.5, 29.5, 30.5, 31.5, 32.5,\n",
       "       33.5, 34.5, 35.5, 36.5, 37.5, 38.5, 39.5, 40.5, 41.5, 42.5, 43.5,\n",
       "       44.5, 45.5, 46.5, 47.5, 48.5, 49.5, 50.5, 51.5, 52.5, 53.5, 54.5,\n",
       "       55.5, 56.5, 57.5, 58.5, 59.5, 60.5, 61.5, 62.5, 63.5, 64.5, 65.5,\n",
       "       66.5, 67.5, 68.5, 69.5, 70.5, 71.5, 72.5, 73.5, 74.5, 75.5, 76.5,\n",
       "       77.5, 78.5, 79.5, 80.5, 81.5, 82.5, 83.5, 84.5, 85.5, 86.5, 87.5,\n",
       "       88.5, 89.5, 90.5, 91.5, 92.5, 93.5, 94.5, 95.5, 96.5, 97.5, 98.5])"
      ]
     },
     "execution_count": 23,
     "metadata": {},
     "output_type": "execute_result"
    }
   ],
   "source": [
    "centroids"
   ]
  },
  {
   "cell_type": "markdown",
   "metadata": {},
   "source": [
    "Inversion de l'indexing :\n",
    "\n",
    "- référence en bas à gauche et en haut à gauche\n",
    "\n",
    "- si on prend le 0 du premier modèle il faut le placer dans le 0 de l'autre et inversément\n",
    "    "
   ]
  },
  {
   "cell_type": "code",
   "execution_count": 27,
   "metadata": {},
   "outputs": [
    {
     "name": "stdout",
     "output_type": "stream",
     "text": [
      "0.5\n",
      "1.5\n",
      "2.5\n",
      "3.5\n",
      "4.5\n",
      "5.5\n",
      "6.5\n",
      "7.5\n",
      "8.5\n",
      "9.5\n",
      "10.5\n",
      "11.5\n",
      "12.5\n",
      "13.5\n",
      "14.5\n",
      "15.5\n",
      "16.5\n",
      "17.5\n",
      "18.5\n",
      "19.5\n",
      "20.5\n",
      "21.5\n",
      "22.5\n",
      "23.5\n",
      "24.5\n",
      "25.5\n",
      "26.5\n",
      "27.5\n",
      "28.5\n",
      "29.5\n",
      "30.5\n",
      "31.5\n",
      "32.5\n",
      "33.5\n",
      "34.5\n",
      "35.5\n",
      "36.5\n",
      "37.5\n",
      "38.5\n",
      "39.5\n",
      "40.5\n",
      "41.5\n",
      "42.5\n",
      "43.5\n",
      "44.5\n",
      "45.5\n",
      "46.5\n",
      "47.5\n",
      "48.5\n",
      "49.5\n",
      "50.5\n",
      "51.5\n",
      "52.5\n",
      "53.5\n",
      "54.5\n",
      "55.5\n",
      "56.5\n",
      "57.5\n",
      "58.5\n",
      "59.5\n",
      "60.5\n",
      "61.5\n",
      "62.5\n",
      "63.5\n",
      "64.5\n",
      "65.5\n",
      "66.5\n",
      "67.5\n",
      "68.5\n",
      "69.5\n",
      "70.5\n",
      "71.5\n",
      "72.5\n",
      "73.5\n",
      "74.5\n",
      "75.5\n",
      "76.5\n",
      "77.5\n",
      "78.5\n",
      "79.5\n",
      "80.5\n",
      "81.5\n",
      "82.5\n",
      "83.5\n",
      "84.5\n",
      "85.5\n",
      "86.5\n",
      "87.5\n",
      "88.5\n",
      "89.5\n",
      "90.5\n",
      "91.5\n",
      "92.5\n",
      "93.5\n",
      "94.5\n",
      "95.5\n",
      "96.5\n",
      "97.5\n",
      "98.5\n"
     ]
    }
   ],
   "source": [
    "for i in centroids:\n",
    "    print(i)\n",
    "    if i < 30:\n",
    "        ab = 29 - np.round((i-0.01)).astype(int) # index dans le modèle resmap\n",
    "        ab2 = np.floor(i/thickness).astype(int) # index dans le modèle EM\n",
    "        res_EM[ab2] = res_map[ab,position_x]"
   ]
  },
  {
   "cell_type": "markdown",
   "metadata": {},
   "source": [
    "Mise en commun des modèles"
   ]
  },
  {
   "cell_type": "code",
   "execution_count": 6,
   "metadata": {},
   "outputs": [
    {
     "data": {
      "image/png": "[encoded data removed]",
      "text/plain": [
       "<Figure size 432x288 with 1 Axes>"
      ]
     },
     "metadata": {
      "needs_background": "light"
     },
     "output_type": "display_data"
    }
   ],
   "source": [
    "model = pg.cat(thk, res_EM)\n",
    "noiseEM = 1\n",
    "plt.plot(np.array(res_EM)[:-1],np.array(centroids));"
   ]
  },
  {
   "cell_type": "markdown",
   "metadata": {},
   "source": [
    "Fréquences utilisées"
   ]
  },
  {
   "cell_type": "code",
   "execution_count": 7,
   "metadata": {},
   "outputs": [],
   "source": [
    "coilspacing = 10\n",
    "nf = 10\n",
    "freq = pg.Vector(nf)\n",
    "freq[0] = 100\n",
    "freq[1] = 400\n",
    "freq[2] = 600\n",
    "freq[3] = 1000\n",
    "freq[4] = 5000\n",
    "freq[5] = 8000\n",
    "freq[6] = 9000\n",
    "freq[7] = 10000\n",
    "freq[8] = 20000\n",
    "freq[9] = 30000"
   ]
  },
  {
   "cell_type": "markdown",
   "metadata": {},
   "source": [
    "Fonction du modèle"
   ]
  },
  {
   "cell_type": "code",
   "execution_count": 8,
   "metadata": {},
   "outputs": [],
   "source": [
    "fEM = pg.core.FDEM1dModelling(nlay, freq, coilspacing) # coilspacing : espacement des boucles\n",
    "dataEM = fEM(model)"
   ]
  },
  {
   "cell_type": "markdown",
   "metadata": {},
   "source": [
    "Bruit possible :"
   ]
  },
  {
   "cell_type": "code",
   "execution_count": 9,
   "metadata": {},
   "outputs": [],
   "source": [
    "for i in range(len(dataEM)):\n",
    "    dataEM[i] += np.random.random(1)[0] * 0.1"
   ]
  },
  {
   "cell_type": "markdown",
   "metadata": {},
   "source": [
    "Plot du modèle :"
   ]
  },
  {
   "cell_type": "code",
   "execution_count": 10,
   "metadata": {},
   "outputs": [
    {
     "data": {
      "image/png": "[encoded data removed]",
      "text/plain": [
       "<Figure size 432x288 with 1 Axes>"
      ]
     },
     "metadata": {
      "needs_background": "light"
     },
     "output_type": "display_data"
    }
   ],
   "source": [
    "plt.scatter(dataEM[:nf], freq, marker = 'x')\n",
    "plt.scatter(dataEM[nf:nf*2], freq, marker = 'o')\n",
    "plt.yscale('log')\n",
    "plt.ylim((min(freq), max(freq)))\n",
    "plt.grid(which='both')\n",
    "plt.xlabel('Phase %')\n",
    "plt.ylabel('$f$ $[Hz]$');"
   ]
  },
  {
   "cell_type": "markdown",
   "metadata": {},
   "source": [
    "Alternative qui utilise des fonctions équivalentes "
   ]
  },
  {
   "cell_type": "code",
   "execution_count": 11,
   "metadata": {},
   "outputs": [],
   "source": [
    "#Une autre méthode pour comparer. Ca a l'air de donner les memes datas\n",
    "Data_box_FEM = pg.physics.em.FDEM(x=[1],freqs=freq,coilSpacing=coilspacing)\n",
    "FOP = pg.core.FDEM1dRhoModelling(centroids, Data_box_FEM.freq(), Data_box_FEM.coilSpacing,-Data_box_FEM.height)\n",
    "dataEM = FOP(res_EM)"
   ]
  },
  {
   "cell_type": "code",
   "execution_count": 12,
   "metadata": {},
   "outputs": [
    {
     "data": {
      "image/png": "[encoded data removed]",
      "text/plain": [
       "<Figure size 432x288 with 1 Axes>"
      ]
     },
     "metadata": {
      "needs_background": "light"
     },
     "output_type": "display_data"
    }
   ],
   "source": [
    "plt.scatter(dataEM[:nf], freq, marker = 'x')\n",
    "plt.scatter(dataEM[nf:nf*2], freq, marker = 'o')\n",
    "plt.yscale('log')\n",
    "plt.ylim((min(freq), max(freq)))\n",
    "plt.grid(which='both')\n",
    "plt.xlabel('Phase %')\n",
    "plt.ylabel('$f$ $[Hz]$');"
   ]
  },
  {
   "cell_type": "markdown",
   "metadata": {},
   "source": [
    "## Inversion FDEM\n",
    "\n",
    "But : retrouver notre modèle initial à partir des données"
   ]
  },
  {
   "cell_type": "code",
   "execution_count": 13,
   "metadata": {},
   "outputs": [],
   "source": [
    "transRhoa = pg.trans.TransLog() # paramètre initial - no limit sur les couches\n",
    "transThk = pg.trans.TransLog()\n",
    "transRes = pg.trans.TransLogLU(1., 1000.) # limitation des résistivités - entre 1 et 1000 ohmm\n",
    "transEM = pg.trans.Trans()"
   ]
  },
  {
   "cell_type": "markdown",
   "metadata": {},
   "source": [
    "nombre de couche au modèle"
   ]
  },
  {
   "cell_type": "code",
   "execution_count": 14,
   "metadata": {},
   "outputs": [],
   "source": [
    "nLayer_inv = 20 # nombre de layer du modèle inverse"
   ]
  },
  {
   "cell_type": "markdown",
   "metadata": {},
   "source": [
    "Modèle initial, avant inversion. 2m de couches, uniformes à 10 ohmm"
   ]
  },
  {
   "cell_type": "code",
   "execution_count": 15,
   "metadata": {},
   "outputs": [],
   "source": [
    "thk_inv = pg.Vector(nLayer_inv - 1, 2)  # 2m d'épaisseur par couches\n",
    "res_inv = np.ones(nLayer_inv) *  1000\n",
    "initial_model = pg.cat(thk_inv, res_inv)  # mise en commun du modèle"
   ]
  },
  {
   "cell_type": "code",
   "execution_count": 16,
   "metadata": {},
   "outputs": [],
   "source": [
    "fEM_inv = pg.core.FDEM1dModelling(nLayer_inv, freq, coilspacing)\n",
    "fEM_inv.region(0).setTransModel(transThk)\n",
    "fEM_inv.region(1).setTransModel(transRes)\n",
    "lamEM =  100 # paramètre de régulation pour le modèle"
   ]
  },
  {
   "cell_type": "markdown",
   "metadata": {},
   "source": [
    "Les fameux modèles -> non uniqueness des solutions qui dépendent des paramètres."
   ]
  },
  {
   "cell_type": "code",
   "execution_count": 17,
   "metadata": {},
   "outputs": [],
   "source": [
    "invEM = pg.core.Inversion(dataEM, fEM_inv, transEM)\n",
    "invEM.setModel(initial_model)\n",
    "invEM.setRelativeError(0.1/100)\n",
    "invEM.setLambda(lamEM)\n",
    "invEM.setMarquardtScheme(0.8)\n",
    "invEM.setDeltaPhiAbortPercent(0.00001)\n",
    "invEM.setMaxIter(40)\n",
    "invEM.setBlockyModel(True)"
   ]
  },
  {
   "cell_type": "markdown",
   "metadata": {},
   "source": [
    "Finalisation du modèle EM"
   ]
  },
  {
   "cell_type": "code",
   "execution_count": 18,
   "metadata": {},
   "outputs": [],
   "source": [
    "modelEM = invEM.run()\n",
    "respEM = invEM.response()"
   ]
  },
  {
   "cell_type": "markdown",
   "metadata": {},
   "source": [
    "Données"
   ]
  },
  {
   "cell_type": "code",
   "execution_count": 19,
   "metadata": {},
   "outputs": [
    {
     "data": {
      "text/plain": [
       "array([  1.99520763,   1.99100241,   1.99685006,   1.99823666,\n",
       "         1.99980207,   2.00168796,   1.99843475,   2.00221607,\n",
       "         2.00004359,   2.00287567,   1.9995029 ,   2.00292641,\n",
       "         1.99938451,   2.00233318,   1.99939189,   2.00222389,\n",
       "         1.99950358,   2.00221817,   1.99788926, 999.99999001,\n",
       "       999.99999001, 999.99999001, 999.99999001, 999.99999001,\n",
       "       999.99999001, 999.99999001, 999.99999001, 999.99999001,\n",
       "       999.99999   , 999.99999   , 999.99999   , 999.99999   ,\n",
       "       999.99999   , 999.99999   , 999.99999   , 999.99999   ,\n",
       "       999.99999   , 999.99999   , 999.99999007])"
      ]
     },
     "execution_count": 19,
     "metadata": {},
     "output_type": "execute_result"
    }
   ],
   "source": [
    "np.array(modelEM)"
   ]
  },
  {
   "cell_type": "markdown",
   "metadata": {},
   "source": [
    "Plot"
   ]
  },
  {
   "cell_type": "code",
   "execution_count": 20,
   "metadata": {},
   "outputs": [
    {
     "data": {
      "image/png": "[encoded data removed]",
      "text/plain": [
       "<Figure size 432x288 with 1 Axes>"
      ]
     },
     "metadata": {
      "needs_background": "light"
     },
     "output_type": "display_data"
    }
   ],
   "source": [
    "plt.semilogy(dataEM[0:nf], freq, 'bx', label='syn In-Phase')\n",
    "plt.semilogy(dataEM[nf:nf*2], freq, 'bo', label='syn Out Phase')\n",
    "plt.semilogy(respEM[0:nf], freq, 'rx', label='syn In-Phase - Inv')\n",
    "plt.semilogy(respEM[nf:nf*2], freq, 'ro', label='syn Out Phase - Inv')\n",
    "plt.ylim((min(freq), max(freq)))\n",
    "plt.xlabel(\"Phase in %\")\n",
    "plt.ylabel(\"$f$ in Hz\")\n",
    "plt.grid(which='both')\n",
    "plt.legend(loc=\"best\");"
   ]
  },
  {
   "cell_type": "markdown",
   "metadata": {},
   "source": [
    "Reconstruction du modèle initial"
   ]
  },
  {
   "cell_type": "code",
   "execution_count": 21,
   "metadata": {},
   "outputs": [],
   "source": [
    "model_Final = np.array(modelEM)\n",
    "cetr = np.cumsum(model_Final[0:nLayer_inv-2])\n",
    "res_Final = model_Final[nLayer_inv-1:-2]"
   ]
  },
  {
   "cell_type": "code",
   "execution_count": 22,
   "metadata": {
    "scrolled": false
   },
   "outputs": [
    {
     "data": {
      "image/png": "[encoded data removed]",
      "text/plain": [
       "<Figure size 864x576 with 1 Axes>"
      ]
     },
     "metadata": {
      "needs_background": "light"
     },
     "output_type": "display_data"
    }
   ],
   "source": [
    "fig, ax = plt.subplots(figsize = ((12,8)))\n",
    "pg.viewer.mpl.drawModel1D(ax, values=res_Final, depths=cetr,plot='semilogx', \n",
    "                          color='blue',label='Initial Model')\n",
    "pg.viewer.mpl.drawModel1D(ax, values=res_EM[:-1], depths=centroids,plot='semilogx', \n",
    "                          color='red',label='Inverted Model')\n",
    "plt.legend();"
   ]
  }
 ],
 "metadata": {
  "kernelspec": {
   "display_name": "Python 3",
   "language": "python",
   "name": "python3"
  },
  "language_info": {
   "codemirror_mode": {
    "name": "ipython",
    "version": 3
   },
   "file_extension": ".py",
   "mimetype": "text/x-python",
   "name": "python",
   "nbconvert_exporter": "python",
   "pygments_lexer": "ipython3",
   "version": "3.7.9"
  }
 },
 "nbformat": 4,
 "nbformat_minor": 4
}
