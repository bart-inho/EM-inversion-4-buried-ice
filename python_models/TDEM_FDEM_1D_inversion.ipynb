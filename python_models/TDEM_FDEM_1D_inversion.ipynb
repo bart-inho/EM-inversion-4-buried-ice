{
 "cells": [
  {
   "cell_type": "code",
   "execution_count": 1,
   "metadata": {},
   "outputs": [],
   "source": [
    "%matplotlib inline"
   ]
  },
  {
   "cell_type": "markdown",
   "metadata": {},
   "source": [
    "\n",
    "# Bachelor Thesis - TDEM/FDEM 1D inversion\n"
   ]
  },
  {
   "cell_type": "code",
   "execution_count": 2,
   "metadata": {},
   "outputs": [],
   "source": [
    "import numpy as np\n",
    "from SimPEG.electromagnetics import time_domain\n",
    "from SimPEG import (\n",
    "    optimization,\n",
    "    discretize,\n",
    "    maps,\n",
    "    data_misfit,\n",
    "    regularization,\n",
    "    inverse_problem,\n",
    "    inversion,\n",
    "    directives,\n",
    "    utils,\n",
    ")\n",
    "import matplotlib.pyplot as plt"
   ]
  },
  {
   "cell_type": "markdown",
   "metadata": {},
   "source": [
    "## Mesh and sigmas"
   ]
  },
  {
   "cell_type": "markdown",
   "metadata": {},
   "source": [
    "### Mesh\n",
    "\n",
    "We create the mesh grid"
   ]
  },
  {
   "cell_type": "code",
   "execution_count": 3,
   "metadata": {
    "scrolled": false
   },
   "outputs": [
    {
     "data": {
      "text/plain": [
       "Text(0.5, 1.0, 'Tensor Mesh')"
      ]
     },
     "execution_count": 3,
     "metadata": {},
     "output_type": "execute_result"
    },
    {
     "data": {
      "image/png": "[encoded data removed]",
      "text/plain": [
       "<Figure size 432x432 with 1 Axes>"
      ]
     },
     "metadata": {
      "needs_background": "light"
     },
     "output_type": "display_data"
    }
   ],
   "source": [
    "cs, ncx, ncz, npad = 5.0, 25, 15, 15\n",
    "hx = [(cs, ncx), (cs, npad, 1.3)]\n",
    "hz = [(cs, npad, -1.3), (cs, ncz), (cs, npad, 1.3)]\n",
    "mesh = discretize.CylMesh([hx, 1, hz], \"00C\")\n",
    "# We can apply the plotGrid method and output to a specified axes object\n",
    "fig = plt.figure(figsize=(6, 6))\n",
    "ax = fig.add_subplot(111)\n",
    "mesh.plotGrid(ax=ax)\n",
    "ax.set_title(\"Tensor Mesh\")"
   ]
  },
  {
   "cell_type": "markdown",
   "metadata": {},
   "source": [
    "### Resistivity model"
   ]
  },
  {
   "cell_type": "markdown",
   "metadata": {},
   "source": [
    "Very low conductivity, need high frquencies"
   ]
  },
  {
   "cell_type": "code",
   "execution_count": 4,
   "metadata": {},
   "outputs": [],
   "source": [
    "layerz = np.r_[-700.0, -100.0]\n",
    "layer = (mesh.vectorCCz >= layerz[0]) & (mesh.vectorCCz <= layerz[1])\n",
    "active = mesh.vectorCCz < 0.0\n",
    "actMap = maps.InjectActiveCells(mesh, active, np.log(1e-8), nC=mesh.nCz)\n",
    "mapping = maps.ExpMap(mesh) * maps.SurjectVertical1D(mesh) * actMap\n",
    "sig_half = 1e-3\n",
    "sig_air = 1e-8\n",
    "sig_layer = 1e-4\n",
    "sigma = np.ones(mesh.nCz) * sig_air\n",
    "sigma[active] = sig_half\n",
    "sigma[layer] = sig_layer\n",
    "mtrue = np.log(sigma[active])"
   ]
  },
  {
   "cell_type": "code",
   "execution_count": 5,
   "metadata": {},
   "outputs": [],
   "source": [
    "activeN = mesh.vectorNz <= 0.0 + cs / 2.0\n",
    "z_true = np.repeat(mesh.vectorNz[activeN][1:-1], 2, axis=0)\n",
    "z_true = np.r_[mesh.vectorNz[activeN][0], z_true, mesh.vectorNz[activeN][-1]]\n",
    "sigma_true = np.repeat(sigma[active], 2, axis=0)"
   ]
  },
  {
   "cell_type": "markdown",
   "metadata": {},
   "source": [
    "## TDEM"
   ]
  },
  {
   "cell_type": "markdown",
   "metadata": {},
   "source": [
    "### Survey "
   ]
  },
  {
   "cell_type": "code",
   "execution_count": 6,
   "metadata": {},
   "outputs": [],
   "source": [
    "rxOffset = 1e-3\n",
    "rx = time_domain.Rx.PointMagneticFluxTimeDerivative(\n",
    "    np.array([[rxOffset, 0.0, 30]]), np.logspace(-5, -3, 31), \"z\"\n",
    ")\n",
    "src = time_domain.Src.MagDipole([rx], loc=np.array([0.0, 0.0, 80]))\n",
    "survey = time_domain.Survey([src])\n",
    "time_steps = [(1e-06, 20), (1e-05, 20), (0.0001, 20)]\n",
    "simulation = time_domain.Simulation3DElectricField(\n",
    "    mesh, sigmaMap=mapping, survey=survey, time_steps=time_steps\n",
    ")"
   ]
  },
  {
   "cell_type": "markdown",
   "metadata": {},
   "source": [
    "### Observed data \n",
    "\n",
    "Datas are created automatically"
   ]
  },
  {
   "cell_type": "code",
   "execution_count": 7,
   "metadata": {},
   "outputs": [],
   "source": [
    "# create observed data\n",
    "rel_err = 0.05\n",
    "data = simulation.make_synthetic_data(mtrue, relative_error=rel_err)\n",
    "\n",
    "dmisfit = data_misfit.L2DataMisfit(simulation=simulation, data=data)\n",
    "regMesh = discretize.TensorMesh([mesh.hz[mapping.maps[-1].indActive]])\n",
    "reg = regularization.Tikhonov(regMesh, alpha_s=1e-2, alpha_x=1.0)\n",
    "opt = optimization.InexactGaussNewton(maxIter=5, LSshorten=0.5)\n",
    "invProb = inverse_problem.BaseInvProblem(dmisfit, reg, opt)"
   ]
  },
  {
   "cell_type": "markdown",
   "metadata": {},
   "source": [
    "### Set up inversion "
   ]
  },
  {
   "cell_type": "code",
   "execution_count": 8,
   "metadata": {},
   "outputs": [],
   "source": [
    "# Create an inversion object\n",
    "beta = directives.BetaSchedule(coolingFactor=4, coolingRate=2)\n",
    "betaest = directives.BetaEstimate_ByEig(beta0_ratio=1e0)\n",
    "inv = inversion.BaseInversion(invProb, directiveList=[beta, betaest])\n",
    "m0 = np.log(np.ones(mtrue.size) * sig_half)\n",
    "simulation.counter = opt.counter = utils.Counter()\n",
    "opt.remember(\"xc\")"
   ]
  },
  {
   "cell_type": "markdown",
   "metadata": {},
   "source": [
    "### Inversion function and plot "
   ]
  },
  {
   "cell_type": "code",
   "execution_count": 9,
   "metadata": {},
   "outputs": [
    {
     "name": "stdout",
     "output_type": "stream",
     "text": [
      "SimPEG.InvProblem will set Regularization.mref to m0.\n",
      "\n",
      "        SimPEG.InvProblem is setting bfgsH0 to the inverse of the eval2Deriv.\n",
      "        ***Done using same Solver and solverOpts as the problem***\n",
      "model has any nan: 0\n",
      "============================ Inexact Gauss Newton ============================\n",
      "  #     beta     phi_d     phi_m       f      |proj(x-g)-x|  LS    Comment   \n",
      "-----------------------------------------------------------------------------\n",
      "x0 has any nan: 0\n",
      "   0  1.68e+04  5.13e+04  0.00e+00  5.13e+04    5.14e+04      0              \n",
      "   1  1.68e+04  1.18e+04  4.27e-01  1.89e+04    7.44e+03      0              \n",
      "   2  4.19e+03  9.69e+03  4.94e-01  1.18e+04    9.22e+03      0              \n",
      "   3  4.19e+03  4.52e+03  1.19e+00  9.50e+03    3.96e+03      0              \n",
      "   4  1.05e+03  4.15e+03  1.12e+00  5.32e+03    4.78e+03      0              \n",
      "   5  1.05e+03  3.15e+03  1.49e+00  4.71e+03    3.33e+03      1              \n",
      "------------------------- STOP! -------------------------\n",
      "1 : |fc-fOld| = 6.0680e+02 <= tolF*(1+|f0|) = 5.1316e+03\n",
      "1 : |xc-x_last| = 1.0044e+00 <= tolX*(1+|x0|) = 3.3400e+00\n",
      "0 : |proj(x-g)-x|    = 3.3315e+03 <= tolG          = 1.0000e-01\n",
      "0 : |proj(x-g)-x|    = 3.3315e+03 <= 1e3*eps       = 1.0000e-02\n",
      "1 : maxIter   =       5    <= iter          =      5\n",
      "------------------------- DONE! -------------------------\n"
     ]
    }
   ],
   "source": [
    "moptTD = inv.run(m0)"
   ]
  },
  {
   "cell_type": "code",
   "execution_count": 10,
   "metadata": {},
   "outputs": [
    {
     "data": {
      "image/png": "[encoded data removed]",
      "text/plain": [
       "<Figure size 576x576 with 2 Axes>"
      ]
     },
     "metadata": {
      "needs_background": "light"
     },
     "output_type": "display_data"
    }
   ],
   "source": [
    "fig, ax = plt.subplots(1, 2, figsize=(8, 8))\n",
    "\n",
    "ax[0].loglog(rx.times, -invProb.dpred, \"k.-\")\n",
    "ax[0].loglog(rx.times, -data.dobs, \"b.-\")\n",
    "\n",
    "ax[0].legend((\"Noisefree\", \"$d^{obs}$\"))\n",
    "ax[0].set_xlabel(\"Time (s)\")\n",
    "ax[0].set_ylabel(\"$B_z$ (T)\")\n",
    "ax[0].set_xlabel(\"Time (s)\")\n",
    "ax[0].grid(color=\"k\", alpha=0.5, linestyle=\"dashed\", linewidth=0.5)\n",
    "\n",
    "ax[1].semilogx(sigma[active], mesh.vectorCCz[active], 'k-')\n",
    "ax[1].semilogx(np.exp(moptTD), mesh.vectorCCz[active], 'b.')\n",
    "ax[1].set_xlabel(\"Conductivity (S/m)\")\n",
    "ax[1].set_ylabel(\"Depth (m)\")\n",
    "ax[1].grid(color=\"k\", alpha=0.5, linestyle=\"dashed\", linewidth=0.5)\n",
    "ax[1].legend([\"$\\sigma_{true}$\", \"$\\sigma_{pred}$\"])\n",
    "\n",
    "plt.tight_layout(pad=1.5)"
   ]
  },
  {
   "cell_type": "markdown",
   "metadata": {},
   "source": [
    "## FDEM "
   ]
  },
  {
   "cell_type": "markdown",
   "metadata": {},
   "source": [
    "### Survey "
   ]
  },
  {
   "cell_type": "code",
   "execution_count": 11,
   "metadata": {},
   "outputs": [],
   "source": [
    "from SimPEG.electromagnetics import frequency_domain as FDEM, time_domain as TDEM, mu_0\n",
    "import matplotlib"
   ]
  },
  {
   "cell_type": "code",
   "execution_count": 12,
   "metadata": {},
   "outputs": [],
   "source": [
    "rxlocs = utils.ndgrid([np.r_[50.0], np.r_[0], np.r_[0.0]])\n",
    "bzr = FDEM.Rx.PointMagneticFluxDensitySecondary(rxlocs, \"z\", \"real\")\n",
    "bzi = FDEM.Rx.PointMagneticFluxDensitySecondary(rxlocs, \"z\", \"imag\")\n",
    "freqs = np.logspace(5, 6, 10) # choosing frequencies\n",
    "srcLoc = np.array([0.0, 0.0, 0.0])"
   ]
  },
  {
   "cell_type": "markdown",
   "metadata": {},
   "source": [
    "#### Frquency secondary field list"
   ]
  },
  {
   "cell_type": "code",
   "execution_count": 13,
   "metadata": {},
   "outputs": [],
   "source": [
    "srcList = [FDEM.Src.MagDipole([bzr, bzi], freq, srcLoc, orientation=\"Z\") for freq in freqs]"
   ]
  },
  {
   "cell_type": "markdown",
   "metadata": {},
   "source": [
    "#### Activating survey and problem"
   ]
  },
  {
   "cell_type": "code",
   "execution_count": 14,
   "metadata": {},
   "outputs": [],
   "source": [
    "surveyFD = FDEM.Survey(srcList)\n",
    "prbFD = FDEM.Simulation3DMagneticFluxDensity(\n",
    "    mesh, survey=surveyFD, sigmaMap=mapping)"
   ]
  },
  {
   "cell_type": "markdown",
   "metadata": {},
   "source": [
    "### Setting up datas"
   ]
  },
  {
   "cell_type": "code",
   "execution_count": 15,
   "metadata": {},
   "outputs": [],
   "source": [
    "rel_err = 0.03\n",
    "dataFD = prbFD.make_synthetic_data(mtrue, relative_error=rel_err, add_noise=True)\n",
    "dataFD.noise_floor = np.linalg.norm(dataFD.dclean) * 1e-5"
   ]
  },
  {
   "cell_type": "markdown",
   "metadata": {},
   "source": [
    "### Setting up inversion"
   ]
  },
  {
   "cell_type": "code",
   "execution_count": 16,
   "metadata": {},
   "outputs": [],
   "source": [
    "np.random.seed(1)\n",
    "dmisfit = data_misfit.L2DataMisfit(simulation=prbFD, data=dataFD)\n",
    "regMesh = discretize.TensorMesh([mesh.hz[mapping.maps[-1].indActive]])\n",
    "reg = regularization.Simple(regMesh)\n",
    "opt = optimization.InexactGaussNewton(maxIterCG=10)\n",
    "invProb = inverse_problem.BaseInvProblem(dmisfit, reg, opt)"
   ]
  },
  {
   "cell_type": "markdown",
   "metadata": {},
   "source": [
    "### Inversion parameters"
   ]
  },
  {
   "cell_type": "code",
   "execution_count": 20,
   "metadata": {},
   "outputs": [
    {
     "name": "stdout",
     "output_type": "stream",
     "text": [
      "The callback on the InexactGaussNewton Optimization was replaced.\n"
     ]
    }
   ],
   "source": [
    "beta = directives.BetaSchedule(coolingFactor=4, coolingRate=3)\n",
    "betaest = directives.BetaEstimate_ByEig(beta0_ratio=2.0)\n",
    "target = directives.TargetMisfit()\n",
    "directiveList = [beta, betaest, target]\n",
    "\n",
    "inv = inversion.BaseInversion(invProb, directiveList=directiveList)\n",
    "m0 = np.log(np.ones(mtrue.size) * sig_layer)\n",
    "reg.alpha_s = 5e-1\n",
    "reg.alpha_x = 1e0\n",
    "prbFD.counter = opt.counter = utils.Counter()\n",
    "opt.remember(\"xc\")"
   ]
  },
  {
   "cell_type": "markdown",
   "metadata": {},
   "source": [
    "###  Inversion function and plot "
   ]
  },
  {
   "cell_type": "code",
   "execution_count": null,
   "metadata": {},
   "outputs": [
    {
     "name": "stdout",
     "output_type": "stream",
     "text": [
      "\n",
      "        SimPEG.InvProblem is setting bfgsH0 to the inverse of the eval2Deriv.\n",
      "        ***Done using same Solver and solverOpts as the problem***\n",
      "model has any nan: 0\n",
      "============================ Inexact Gauss Newton ============================\n",
      "  #     beta     phi_d     phi_m       f      |proj(x-g)-x|  LS    Comment   \n",
      "-----------------------------------------------------------------------------\n",
      "x0 has any nan: 0\n",
      "   0  4.85e+02  2.11e+04  2.92e+01  3.53e+04    3.54e+03      0              \n",
      "   1  4.85e+02  1.57e+04  2.13e+01  2.60e+04    1.33e+03      0              \n",
      "   2  4.85e+02  1.71e+04  1.71e+01  2.54e+04    5.39e+02      1              \n",
      "   3  1.21e+02  1.58e+04  1.95e+01  1.82e+04    1.50e+03      0              \n",
      "   4  1.21e+02  1.20e+04  4.24e+01  1.72e+04    5.97e+02      0              \n",
      "   5  1.21e+02  1.35e+04  2.78e+01  1.68e+04    6.89e+02      1              \n",
      "   6  3.03e+01  1.24e+04  3.37e+01  1.35e+04    8.11e+02      1              \n",
      "   7  3.03e+01  1.07e+04  7.97e+01  1.31e+04    5.05e+02      0              \n",
      "   8  3.03e+01  1.18e+04  4.16e+01  1.30e+04    6.57e+02      1              \n",
      "   9  7.58e+00  1.09e+04  5.53e+01  1.13e+04    4.30e+02      1              \n",
      "  10  7.58e+00  1.06e+04  8.23e+01  1.12e+04    4.59e+02      1              \n"
     ]
    }
   ],
   "source": [
    "moptFD = inv.run(m0)"
   ]
  },
  {
   "cell_type": "code",
   "execution_count": null,
   "metadata": {},
   "outputs": [],
   "source": [
    "fig, ax = plt.subplots(1, 2, figsize=(8, 8))\n",
    "\n",
    "dpredFD = prbFD.dpred(moptTD)\n",
    "\n",
    "ax[0].loglog( freqs, -dpredFD[::2], \"b.\", label=\"Pred (real)\")\n",
    "ax[0].loglog(freqs, -dpredFD[1::2], \"bx\", label=\"Pred (imag)\")\n",
    "ax[0].plot(freqs, -dataFD.dobs[::2], \"k-\", label=\"Obs (real)\")\n",
    "ax[0].plot(freqs, -dataFD.dobs[1::2], \"k--\", label=\"Obs (imag)\")\n",
    "#ax[0].set_xscale('symlog')\n",
    "#ax[0].set_yscale('symlog')\n",
    "\n",
    "ax[0].set_ylabel(\"$B_z$ [-T]\")\n",
    "ax[0].set_xlabel(\"Distance $[m]$\")\n",
    "ax[0].grid(which=\"both\", alpha=0.5, linewidth=0.2)\n",
    "ax[0].legend()\n",
    "\n",
    "\n",
    "ax[1].semilogx(sigma_true, z_true, \"k-\", label=\"True\")\n",
    "ax[1].semilogx( np.exp(moptFD), mesh.vectorCCz[active], \"b.\", label=\"FDEM\",)\n",
    "\n",
    "ax[1].set_xlabel(\"Conductivity [S/m]\")\n",
    "ax[1].set_ylabel(\"Depth [m]\")\n",
    "ax[1].grid(which=\"both\", alpha=0.5, linewidth=0.2)\n",
    "ax[1].legend()\n",
    "\n",
    "plt.tight_layout(pad=1.5)"
   ]
  },
  {
   "cell_type": "code",
   "execution_count": null,
   "metadata": {},
   "outputs": [],
   "source": []
  }
 ],
 "metadata": {
  "kernelspec": {
   "display_name": "Python 3",
   "language": "python",
   "name": "python3"
  },
  "language_info": {
   "codemirror_mode": {
    "name": "ipython",
    "version": 3
   },
   "file_extension": ".py",
   "mimetype": "text/x-python",
   "name": "python",
   "nbconvert_exporter": "python",
   "pygments_lexer": "ipython3",
   "version": "3.7.9"
  }
 },
 "nbformat": 4,
 "nbformat_minor": 1
}
