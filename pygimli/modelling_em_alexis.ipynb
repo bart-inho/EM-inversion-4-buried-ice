{
 "cells": [
  {
   "cell_type": "code",
   "execution_count": 1,
   "metadata": {},
   "outputs": [],
   "source": [
    "%load_ext autoreload\n",
    "%autoreload 1"
   ]
  },
  {
   "cell_type": "code",
   "execution_count": 2,
   "metadata": {},
   "outputs": [
    {
     "ename": "ModuleNotFoundError",
     "evalue": "No module named 'geone'",
     "output_type": "error",
     "traceback": [
      "\u001b[0;31m---------------------------------------------------------------------------\u001b[0m",
      "\u001b[0;31mModuleNotFoundError\u001b[0m                       Traceback (most recent call last)",
      "\u001b[0;32m<ipython-input-2-d439fd0add9a>\u001b[0m in \u001b[0;36m<module>\u001b[0;34m\u001b[0m\n\u001b[1;32m      4\u001b[0m \u001b[0;32mimport\u001b[0m \u001b[0mnumpy\u001b[0m \u001b[0;32mas\u001b[0m \u001b[0mnp\u001b[0m\u001b[0;34m\u001b[0m\u001b[0;34m\u001b[0m\u001b[0m\n\u001b[1;32m      5\u001b[0m \u001b[0;34m\u001b[0m\u001b[0m\n\u001b[0;32m----> 6\u001b[0;31m \u001b[0;32mimport\u001b[0m \u001b[0mgeone\u001b[0m\u001b[0;34m\u001b[0m\u001b[0;34m\u001b[0m\u001b[0m\n\u001b[0m\u001b[1;32m      7\u001b[0m \u001b[0;32mimport\u001b[0m \u001b[0mgeone\u001b[0m\u001b[0;34m.\u001b[0m\u001b[0mimgplot\u001b[0m \u001b[0;32mas\u001b[0m \u001b[0mimgplt\u001b[0m\u001b[0;34m\u001b[0m\u001b[0;34m\u001b[0m\u001b[0m\n\u001b[1;32m      8\u001b[0m \u001b[0;32mimport\u001b[0m \u001b[0mgeone\u001b[0m\u001b[0;34m.\u001b[0m\u001b[0mcustomcolors\u001b[0m \u001b[0;32mas\u001b[0m \u001b[0mccol\u001b[0m\u001b[0;34m\u001b[0m\u001b[0;34m\u001b[0m\u001b[0m\n",
      "\u001b[0;31mModuleNotFoundError\u001b[0m: No module named 'geone'"
     ]
    }
   ],
   "source": [
    "import os\n",
    "import pickle\n",
    "import matplotlib.pyplot as plt\n",
    "import numpy as np\n",
    "\n",
    "import geone\n",
    "import geone.imgplot as imgplt\n",
    "import geone.customcolors as ccol\n",
    "import geone.deesseinterface as dsi\n",
    "from geone import grf\n",
    "import geone.covModel as gcm\n",
    "import geone.imgplot as imgplt\n",
    "import geone.img as img\n",
    "\n",
    "import pybert as pb\n",
    "import pygimli as pg\n",
    "import pygimli.meshtools as mt  # save space\n",
    "from matplotlib import colors\n"
   ]
  },
  {
   "cell_type": "markdown",
   "metadata": {},
   "source": [
    "# Useless for the moment"
   ]
  },
  {
   "cell_type": "code",
   "execution_count": null,
   "metadata": {},
   "outputs": [],
   "source": [
    "# TI\n",
    "ti = geone.img.readImageGslib('lagoon3.gslib')\n",
    "geone.imgplot.drawImage2D(ti, categ=True)"
   ]
  },
  {
   "cell_type": "code",
   "execution_count": null,
   "metadata": {},
   "outputs": [],
   "source": [
    "model_Pop = ti.val[0,0,:,:]\n",
    "Grid_str = mt.grid.createGrid(np.where(model_Pop == 1)[1],- np.where(model_Pop == 1)[0],marker = 2,worldBoundaryMarker =True )\n",
    "type(Grid_str)\n",
    "pg.show(Grid_str)"
   ]
  },
  {
   "cell_type": "code",
   "execution_count": null,
   "metadata": {},
   "outputs": [],
   "source": [
    "nz = model_Pop.shape[0]\n",
    "nx = model_Pop.shape[1]\n",
    "\n",
    "right_side = np.argmax(model_Pop,axis=1)\n",
    "left_side = nx - np.argmax(np.fliplr(model_Pop),axis=1)\n",
    "\n",
    "res_map = model_Pop\n",
    "res_map[res_map == 0] = 20\n",
    "res_map[res_map == 1] = 50\n",
    "res_map[0:15,:]= 100\n",
    "\n",
    "\n",
    "#res_map[25:27,:]= 50\n",
    "\n",
    "plt.imshow(res_map,norm=colors.LogNorm())\n",
    "plt.gca().invert_yaxis()\n",
    "plt.title('Apparent Rho')\n",
    "plt.ylabel('Dipole Distance')\n",
    "plt.xlabel('MidPoint')\n",
    "plt.colorbar()"
   ]
  },
  {
   "cell_type": "code",
   "execution_count": null,
   "metadata": {},
   "outputs": [],
   "source": [
    "world = mt.createWorld(start=[0, 0], end=[nx, -nz],\n",
    "                       worldMarker=True,marker=1)\n",
    "\n",
    "\n",
    "# Merge geometry definition into a Piecewise Linear Complex (PLC)\n",
    "geom = mt.mergePLC([world])\n",
    "\n",
    "# Optional: show the geometry\n",
    "pg.show(geom)"
   ]
  },
  {
   "cell_type": "code",
   "execution_count": null,
   "metadata": {},
   "outputs": [],
   "source": [
    "scheme = pb.createData(elecs=pg.utils.grange(start=0, end=200, n=72),\n",
    "                       schemeName='dd')\n",
    "for pos in scheme.sensorPositions():\n",
    "    geom.createNode(pos)\n",
    "    geom.createNode(pos + pg.RVector3(0, -0.1))"
   ]
  },
  {
   "cell_type": "code",
   "execution_count": null,
   "metadata": {},
   "outputs": [],
   "source": [
    "mesh = mt.createMesh(geom, quality=34)\n",
    "\n",
    "# Create a map to set resistivity values in the appropriate regions\n",
    "# [[regionNumber, resistivity], [regionNumber, resistivity], [...]\n",
    "\n",
    "# Optional: take a look at the mesh\n",
    "pg.show(mesh, label='Resistivity $(\\Omega$m)', showMesh=True)\n"
   ]
  },
  {
   "cell_type": "code",
   "execution_count": null,
   "metadata": {},
   "outputs": [],
   "source": [
    "cell_centers = np.array(mesh.cellCenters())\n",
    "rho_cells = res_map[np.round(cell_centers[:,1] + nz - 1).astype(int),np.round(cell_centers[:,0] - 1).astype(int)]\n",
    "\n",
    "\n",
    "\n",
    "# considere un dx de 1 ==> Cell number == Coordinates. Multiplier par Nx,ny pour rendre robuste"
   ]
  },
  {
   "cell_type": "code",
   "execution_count": null,
   "metadata": {},
   "outputs": [],
   "source": [
    "rho_cells"
   ]
  },
  {
   "cell_type": "code",
   "execution_count": null,
   "metadata": {},
   "outputs": [],
   "source": [
    "plt.scatter(np.round(cell_centers[:,0] - 1).astype(int),np.round(cell_centers[:,1] - 1).astype(int),10,rho_cells,norm=colors.LogNorm())\n",
    "plt.title('Centroids')\n",
    "plt.ylabel('Y')\n",
    "plt.xlabel('X')\n",
    "plt.colorbar()"
   ]
  },
  {
   "cell_type": "markdown",
   "metadata": {},
   "source": [
    "# Ici le fun begins - Frequency Domain"
   ]
  },
  {
   "cell_type": "code",
   "execution_count": null,
   "metadata": {},
   "outputs": [],
   "source": [
    "#Je crée un modèle de résistivité, sous forme d'un array\n",
    "res_map = np.empty((30,200),dtype='float')\n",
    "res_map[0:10,:] = 200\n",
    "res_map[10:20,:] = 20\n",
    "res_map[20:30,:] = 100"
   ]
  },
  {
   "cell_type": "code",
   "execution_count": null,
   "metadata": {},
   "outputs": [],
   "source": [
    "plt.imshow(res_map)\n",
    "plt.xlabel('x')\n",
    "plt.ylabel('Depth')"
   ]
  },
  {
   "cell_type": "code",
   "execution_count": null,
   "metadata": {
    "scrolled": true
   },
   "outputs": [],
   "source": [
    "#Where to to the 1D model\n",
    "position_x = 98\n",
    "#Noise to be applied on the data\n",
    "noiseEM = 1  # absolute (per cent of primary signal)\n",
    "\n",
    "#Nombre de couche dans le modèle foward\n",
    "nlay = 40\n",
    "thickness = 1\n",
    "\n",
    "thk = pg.Vector(nlay - 1, thickness)  # 1m thickness each\n",
    "centroids = np.cumsum(thk)-thk/2 #Cacul des positions des centres des couches\n",
    "\n",
    "#On sample dans le model \"res_map\" la résistivité correspondant aux position de couches. \n",
    "res_EM = np.ones(nlay) *  res_map[0,position_x]\n",
    "for i in centroids:\n",
    "    if i < 30:\n",
    "        ab = 29 - np.round((i-0.01)).astype(int) #index dans le modèle resmap\n",
    "        ab2 = np.floor(i/thickness).astype(int) #index dans le modèle EM\n",
    "        res_EM[ab2] = res_map[ab,position_x]\n",
    "        \n",
    "model = pg.cat(thk, res_EM)  # paste together to one model. \n",
    "\n",
    "noiseEM = 1\n",
    "\n",
    "plt.plot(np.array(res_EM)[:-1],np.array(centroids))\n"
   ]
  },
  {
   "cell_type": "code",
   "execution_count": null,
   "metadata": {},
   "outputs": [],
   "source": [
    "model.array()\n",
    "#La logique c'est qu'il y a d'abord toutes les épaisseurs des courches\n",
    "#couche1, couche2, couche3,...... et ensuite les résistivités. La dernière couche est considérée infine "
   ]
  },
  {
   "cell_type": "code",
   "execution_count": null,
   "metadata": {},
   "outputs": [],
   "source": [
    "#On définit les propriétés du forward. Espacement entre les coil, et le nombre de frequences. Chaque fréquence == une mesure, et donc une profondeur d'inverstigation différente.\n",
    "coilspacing = 10\n",
    "nf = 10\n",
    "freq = pg.Vector(nf)\n",
    "freq[0] = 100\n",
    "freq[1] = 400\n",
    "freq[2] = 600\n",
    "freq[3] = 1000\n",
    "freq[4] = 5000\n",
    "freq[5] = 8000\n",
    "freq[6] = 9000\n",
    "freq[7] = 10000\n",
    "freq[8] = 20000\n",
    "freq[9] = 30000\n",
    "\n",
    "#on crée une fonction forward\n",
    "fEM = pg.core.FDEM1dModelling(nlay, freq, coilspacing)\n",
    "#on l'applique au model\n",
    "dataEM = fEM(model)\n",
    "\n",
    "#on peux ajouter du bruit. ici désactivé\n",
    "for i in range(len(dataEM)):\n",
    "    dataEM[i] += np.random.random(1)[0] * 0"
   ]
  },
  {
   "cell_type": "code",
   "execution_count": null,
   "metadata": {},
   "outputs": [],
   "source": [
    "#on affiches les datas\n",
    "plt.semilogy(dataEM(0, nf), freq, 'bx', label='syn In-Phase')\n",
    "plt.semilogy(dataEM(nf, nf*2), freq, 'bo', label='syn Out Phase')\n",
    "plt.ylim((min(freq), max(freq)))\n",
    "plt.xlabel(\"Phase in %\")\n",
    "plt.ylabel(\"$f$ in Hz\")\n",
    "plt.grid(which='both')\n",
    "plt.legend(loc=\"best\")"
   ]
  },
  {
   "cell_type": "code",
   "execution_count": null,
   "metadata": {},
   "outputs": [],
   "source": [
    "#Une autre méthode pour comparer. Ca a l'air de donner les memes datas\n",
    "Data_box_FEM = pg.physics.em.FDEM(x=[1],freqs=freq,coilSpacing=coilspacing)\n",
    "FOP = pg.core.FDEM1dRhoModelling(centroids, Data_box_FEM.freq(), Data_box_FEM.coilSpacing,-Data_box_FEM.height)\n",
    "dataEM = FOP(res_EM)\n"
   ]
  },
  {
   "cell_type": "code",
   "execution_count": null,
   "metadata": {},
   "outputs": [],
   "source": [
    "plt.semilogy(dataEM(0, nf), freq, 'bx', label='syn In-Phase')\n",
    "plt.semilogy(dataEM(nf, nf*2), freq, 'bo', label='syn Out Phase')\n",
    "plt.ylim((min(freq), max(freq)))\n",
    "plt.xlabel(\"Phase in %\")\n",
    "plt.ylabel(\"$f$ in Hz\")\n",
    "plt.grid(which='both')\n",
    "plt.legend(loc=\"best\")"
   ]
  },
  {
   "cell_type": "code",
   "execution_count": null,
   "metadata": {
    "scrolled": true
   },
   "outputs": [],
   "source": [
    "#affichage des données\n",
    "In_phase = dataEM(0, nf)\n",
    "print('InPhase data : ')\n",
    "print(In_phase)\n",
    "Out_phase = dataEM(nf, nf*2)\n",
    "print('OutPhase data : ')\n",
    "print(Out_phase)"
   ]
  },
  {
   "cell_type": "markdown",
   "metadata": {},
   "source": [
    "## Inversion FEM\n",
    "Mainteant on va essayer de retrouver notre modèle initial à partir des données"
   ]
  },
  {
   "cell_type": "code",
   "execution_count": null,
   "metadata": {},
   "outputs": [],
   "source": [
    "#Paramètres de l'inversion\n",
    "#Pas de limite sur les Rho Apparents ou les épaisseurs\n",
    "transRhoa = pg.trans.TransLog()\n",
    "transThk = pg.trans.TransLog()\n",
    "#limite sur les résisitivés - entre 1 et 1000 ohmm\n",
    "transRes = pg.trans.TransLogLU(1., 1000.)\n",
    "transEM = pg.trans.Trans()"
   ]
  },
  {
   "cell_type": "code",
   "execution_count": null,
   "metadata": {},
   "outputs": [],
   "source": [
    "#Nombre de layer du modèle inverse\n",
    "nLayer_inv = 20\n",
    "#Modèle initial, avant inversion. 2m de couches, uniformes à 10 ohmm\n",
    "thk_inv = pg.Vector(nLayer_inv - 1, 2)  # 2m thickness each\n",
    "res_inv = np.ones(nLayer_inv) *  10\n",
    "initial_model = pg.cat(thk_inv, res_inv)  # paste together to one model"
   ]
  },
  {
   "cell_type": "code",
   "execution_count": null,
   "metadata": {},
   "outputs": [],
   "source": [
    "fEM_inv = pg.core.FDEM1dModelling(nLayer_inv, freq, coilspacing)\n",
    "fEM_inv.region(0).setTransModel(transThk)\n",
    "fEM_inv.region(1).setTransModel(transRes)\n",
    "\n",
    "lamEM =  100 #regularisation parameters for the inversion\n",
    "\n",
    "#Toutes les paramètres de l'inverse. Faudrait en parler ca\n",
    "invEM = pg.core.Inversion(dataEM, fEM_inv, transEM)\n",
    "invEM.setModel(initial_model)\n",
    "invEM.setRelativeError(0.1/100)\n",
    "invEM.setLambda(lamEM)\n",
    "invEM.setMarquardtScheme(0.8)\n",
    "invEM.setDeltaPhiAbortPercent(0.00001)\n",
    "invEM.setMaxIter(40)\n",
    "invEM.setBlockyModel(True)\n",
    "\n",
    "modelEM = invEM.run()\n",
    "respEM = invEM.response()"
   ]
  },
  {
   "cell_type": "code",
   "execution_count": null,
   "metadata": {},
   "outputs": [],
   "source": [
    "np.array(modelEM)"
   ]
  },
  {
   "cell_type": "code",
   "execution_count": null,
   "metadata": {},
   "outputs": [],
   "source": [
    "plt.semilogy(dataEM(0, nf), freq, 'bx', label='syn In-Phase')\n",
    "plt.semilogy(dataEM(nf, nf*2), freq, 'bo', label='syn Out Phase')\n",
    "\n",
    "plt.semilogy(respEM(0, nf), freq, 'rx', label='syn In-Phase - Inv')\n",
    "plt.semilogy(respEM(nf, nf*2), freq, 'ro', label='syn Out Phase - Inv')\n",
    "\n",
    "\n",
    "plt.ylim((min(freq), max(freq)))\n",
    "plt.xlabel(\"Phase in %\")\n",
    "plt.ylabel(\"$f$ in Hz\")\n",
    "plt.grid(which='both')\n",
    "plt.legend(loc=\"best\")"
   ]
  },
  {
   "cell_type": "code",
   "execution_count": null,
   "metadata": {},
   "outputs": [],
   "source": [
    "model_Final = np.array(modelEM)\n",
    "cetr = np.cumsum(model_Final[0:nLayer_inv-2])\n",
    "res_Final = model_Final[nLayer_inv-1:-2]"
   ]
  },
  {
   "cell_type": "markdown",
   "metadata": {},
   "source": [
    "Si tu changes les paramètres de l'inversion, ou le modèle initial, la convergence ne sera pas la même est le modèle inverse sera différent. C'est la NON-UNIQUENESS des solutions maggle."
   ]
  },
  {
   "cell_type": "code",
   "execution_count": null,
   "metadata": {},
   "outputs": [],
   "source": [
    "fig, ax = plt.subplots()\n",
    "\n",
    "pg.viewer.mpl.drawModel1D(ax, values=res_Final, depths=cetr,plot='semilogx', color='blue',label='Initial Model')\n",
    "pg.viewer.mpl.drawModel1D(ax, values=res_EM[:-1], depths=centroids,plot='semilogx', color='red',label='Inverted Model')\n",
    "plt.legend()"
   ]
  }
 ],
 "metadata": {
  "kernelspec": {
   "display_name": "Python 3",
   "language": "python",
   "name": "python3"
  },
  "language_info": {
   "codemirror_mode": {
    "name": "ipython",
    "version": 3
   },
   "file_extension": ".py",
   "mimetype": "text/x-python",
   "name": "python",
   "nbconvert_exporter": "python",
   "pygments_lexer": "ipython3",
   "version": "3.7.9"
  }
 },
 "nbformat": 4,
 "nbformat_minor": 4
}
