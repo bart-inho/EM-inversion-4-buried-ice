{
 "cells": [
  {
   "cell_type": "code",
   "execution_count": 1,
   "metadata": {},
   "outputs": [],
   "source": [
    "import numpy as np\n",
    "import matplotlib.pyplot as plt\n",
    "import pygimli as pg\n",
    "import pandas as pd"
   ]
  },
  {
   "cell_type": "markdown",
   "metadata": {},
   "source": [
    "# Modèle de resistivité quelconque "
   ]
  },
  {
   "cell_type": "markdown",
   "metadata": {},
   "source": [
    "## Exemple de sol avec des resistivité aléatoires"
   ]
  },
  {
   "cell_type": "code",
   "execution_count": 2,
   "metadata": {},
   "outputs": [],
   "source": [
    "map_res = np.empty((30, 200), dtype='float')\n",
    "map_res[0:10,:] = 50\n",
    "map_res[10:20,:] = 200\n",
    "map_res[20:30,:] = 100 # discretisation du sol en trois couches (resistivités quelconques ?)"
   ]
  },
  {
   "cell_type": "markdown",
   "metadata": {},
   "source": [
    "Représentation graphique :"
   ]
  },
  {
   "cell_type": "code",
   "execution_count": 3,
   "metadata": {},
   "outputs": [
    {
     "data": {
      "image/png": "[encoded data removed]",
      "text/plain": [
       "<Figure size 432x288 with 1 Axes>"
      ]
     },
     "metadata": {
      "needs_background": "light"
     },
     "output_type": "display_data"
    }
   ],
   "source": [
    "plt.imshow(map_res);\n",
    "plt.xlabel('x'); plt.ylabel('h [m]');"
   ]
  },
  {
   "cell_type": "markdown",
   "metadata": {},
   "source": [
    "## Modèle 1D "
   ]
  },
  {
   "cell_type": "code",
   "execution_count": 4,
   "metadata": {},
   "outputs": [],
   "source": [
    "x = 98 # position x ou se fera le modèle\n",
    "noise_em = 1 # bruit\n",
    "nlay = 40 # nombre de couches\n",
    "thickness = 1\n",
    "thk = pg.Vector(nlay - 1, thickness) # en premier le nombre de couche -1, en deuxième l'épasseur en m\n",
    "center = np.cumsum(thk) - thk/2 # centroïde des couches"
   ]
  },
  {
   "cell_type": "code",
   "execution_count": 5,
   "metadata": {},
   "outputs": [],
   "source": [
    "# Partie pas comprise ou je me suis fais aidé :\n",
    "\n",
    "res_em = np.ones(nlay)*map_res[0, x]\n",
    "\n",
    "for i in center:\n",
    "    if i < 30:\n",
    "        ab = 29-np.round((i-0.01)).astype(int)\n",
    "        ab2 = np.floor(i/thickness).astype(int)\n",
    "        res_em[ab2] = map_res[ab, x]"
   ]
  },
  {
   "cell_type": "code",
   "execution_count": 6,
   "metadata": {},
   "outputs": [
    {
     "data": {
      "image/png": "[encoded data removed]",
      "text/plain": [
       "<Figure size 432x288 with 1 Axes>"
      ]
     },
     "metadata": {
      "needs_background": "light"
     },
     "output_type": "display_data"
    }
   ],
   "source": [
    "model = pg.cat(thk, res_em)\n",
    "noise_em = 1\n",
    "\n",
    "plt.plot(np.array(res_em)[:-1], np.array(center));"
   ]
  },
  {
   "cell_type": "code",
   "execution_count": 7,
   "metadata": {},
   "outputs": [
    {
     "data": {
      "text/plain": [
       "array([  1.,   1.,   1.,   1.,   1.,   1.,   1.,   1.,   1.,   1.,   1.,\n",
       "         1.,   1.,   1.,   1.,   1.,   1.,   1.,   1.,   1.,   1.,   1.,\n",
       "         1.,   1.,   1.,   1.,   1.,   1.,   1.,   1.,   1.,   1.,   1.,\n",
       "         1.,   1.,   1.,   1.,   1.,   1., 100., 100., 100., 100., 100.,\n",
       "       100., 100., 100., 100., 100., 200., 200., 200., 200., 200., 200.,\n",
       "       200., 200., 200., 200.,  50.,  50.,  50.,  50.,  50.,  50.,  50.,\n",
       "        50.,  50.,  50.,  50.,  50.,  50.,  50.,  50.,  50.,  50.,  50.,\n",
       "        50.,  50.])"
      ]
     },
     "execution_count": 7,
     "metadata": {},
     "output_type": "execute_result"
    }
   ],
   "source": [
    "model.array()"
   ]
  },
  {
   "cell_type": "markdown",
   "metadata": {},
   "source": [
    "## Modèle forward"
   ]
  },
  {
   "cell_type": "code",
   "execution_count": 8,
   "metadata": {},
   "outputs": [],
   "source": [
    "space_coil = 10; nf = 10; freq = pg.Vector(nf)\n",
    "freq = pd.read_excel('freq.xlsx')\n",
    "freq = np.array(freq)"
   ]
  },
  {
   "cell_type": "code",
   "execution_count": 9,
   "metadata": {},
   "outputs": [],
   "source": [
    "fEM = pg.core.FDEM1dModelling(nlay, freq, space_coil)\n",
    "dataEM= fEM(model)\n",
    "\n",
    "#for i in range(len(dataEM)):\n",
    "#    dataEM[i]+=np.random.random(1)[0]*0"
   ]
  },
  {
   "cell_type": "code",
   "execution_count": 10,
   "metadata": {},
   "outputs": [
    {
     "data": {
      "image/png": "[encoded data removed]",
      "text/plain": [
       "<Figure size 432x288 with 1 Axes>"
      ]
     },
     "metadata": {
      "needs_background": "light"
     },
     "output_type": "display_data"
    }
   ],
   "source": [
    "plt.scatter(dataEM[0:nf], freq)\n",
    "plt.scatter(dataEM[nf:nf*2], freq)\n",
    "plt.yscale('log')\n",
    "plt.ylim((min(freq), max(freq)))\n",
    "plt.grid(which='both')"
   ]
  },
  {
   "cell_type": "code",
   "execution_count": 11,
   "metadata": {},
   "outputs": [],
   "source": [
    "data_fEM = pg.physics.em.FDEM(x=[1], freqs=freq, coilSpacing=space_coil)\n",
    "fOP = pg.core.FDEM1dRhoModelling(center, data_fEM.freq(), data_fEM.coilSpacing, -data_fEM.height)\n",
    "dataEM= pd.DataFrame(fOP(res_em))"
   ]
  },
  {
   "cell_type": "code",
   "execution_count": 12,
   "metadata": {},
   "outputs": [
    {
     "data": {
      "image/png": "[encoded data removed]",
      "text/plain": [
       "<Figure size 432x288 with 1 Axes>"
      ]
     },
     "metadata": {
      "needs_background": "light"
     },
     "output_type": "display_data"
    }
   ],
   "source": [
    "plt.scatter(dataEM[:nf], freq)\n",
    "plt.scatter(dataEM[nf:nf*2], freq)\n",
    "plt.yscale('log')\n",
    "plt.ylim((min(freq), max(freq)))\n",
    "plt.grid(which='both')"
   ]
  },
  {
   "cell_type": "code",
   "execution_count": null,
   "metadata": {},
   "outputs": [],
   "source": []
  }
 ],
 "metadata": {
  "kernelspec": {
   "display_name": "Python 3",
   "language": "python",
   "name": "python3"
  },
  "language_info": {
   "codemirror_mode": {
    "name": "ipython",
    "version": 3
   },
   "file_extension": ".py",
   "mimetype": "text/x-python",
   "name": "python",
   "nbconvert_exporter": "python",
   "pygments_lexer": "ipython3",
   "version": "3.7.9"
  }
 },
 "nbformat": 4,
 "nbformat_minor": 4
}
