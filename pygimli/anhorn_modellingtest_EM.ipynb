{
 "cells": [
  {
   "cell_type": "code",
   "execution_count": 1,
   "metadata": {},
   "outputs": [],
   "source": [
    "import matplotlib.pyplot as plt\n",
    "import numpy as np\n",
    "import pygimli as pg"
   ]
  },
  {
   "cell_type": "markdown",
   "metadata": {},
   "source": [
    "# Modèle EM - Frenquency domaine"
   ]
  },
  {
   "cell_type": "code",
   "execution_count": 2,
   "metadata": {},
   "outputs": [],
   "source": [
    "#Je crée un modèle de résistivité, sous forme d'un array\n",
    "res_map = np.empty((30,200),dtype='float')\n",
    "res_map[0:10,:] = 200\n",
    "res_map[10:20,:] = 20\n",
    "res_map[20:30,:] = 100"
   ]
  },
  {
   "cell_type": "code",
   "execution_count": 3,
   "metadata": {},
   "outputs": [
    {
     "data": {
      "text/plain": [
       "Text(0, 0.5, 'Depth')"
      ]
     },
     "execution_count": 3,
     "metadata": {},
     "output_type": "execute_result"
    },
    {
     "data": {
      "image/png": "[encoded data removed]",
      "text/plain": [
       "<Figure size 432x288 with 1 Axes>"
      ]
     },
     "metadata": {
      "needs_background": "light"
     },
     "output_type": "display_data"
    }
   ],
   "source": [
    "plt.imshow(res_map)\n",
    "plt.xlabel('x')\n",
    "plt.ylabel('Depth')"
   ]
  },
  {
   "cell_type": "code",
   "execution_count": 4,
   "metadata": {
    "scrolled": true
   },
   "outputs": [],
   "source": [
    "position_x = 98 # position initiale du modèle\n",
    "noiseEM = 1 \n",
    "nlay = 40\n",
    "thickness = 1\n",
    "\n",
    "thk = pg.Vector(nlay - 1, thickness)  # épaisseur de chaque couche (1m)\n",
    "centroids = np.cumsum(thk)-thk/2 # centre des couches\n",
    "\n",
    "# On sample dans le model \"res_map\" la résistivité correspondant aux position de couches. \n",
    "res_EM = np.ones(nlay) *  res_map[0,position_x]\n",
    "    "
   ]
  },
  {
   "cell_type": "markdown",
   "metadata": {},
   "source": [
    "Ici pas à 100% compris mais on inverse l'indexing \n",
    "\n",
    "-> référence en bas à gauche et en haut à gauche\n",
    "\n",
    "-> si on prend le 0 du premier modèle il faut le placer dans le 0 de l'autre et inversément\n",
    "    "
   ]
  },
  {
   "cell_type": "code",
   "execution_count": 5,
   "metadata": {},
   "outputs": [],
   "source": [
    "for i in centroids:\n",
    "    if i < 30:\n",
    "        ab = 29 - np.round((i-0.01)).astype(int) # index dans le modèle resmap\n",
    "        ab2 = np.floor(i/thickness).astype(int) # index dans le modèle EM\n",
    "        res_EM[ab2] = res_map[ab,position_x]"
   ]
  },
  {
   "cell_type": "markdown",
   "metadata": {},
   "source": [
    "Mise en commun des modèles"
   ]
  },
  {
   "cell_type": "code",
   "execution_count": 6,
   "metadata": {},
   "outputs": [
    {
     "data": {
      "image/png": "[encoded data removed]",
      "text/plain": [
       "<Figure size 432x288 with 1 Axes>"
      ]
     },
     "metadata": {
      "needs_background": "light"
     },
     "output_type": "display_data"
    }
   ],
   "source": [
    "model = pg.cat(thk, res_EM)\n",
    "noiseEM = 1\n",
    "plt.plot(np.array(res_EM)[:-1],np.array(centroids));"
   ]
  },
  {
   "cell_type": "raw",
   "metadata": {},
   "source": [
    "Valeurs :"
   ]
  },
  {
   "cell_type": "code",
   "execution_count": 7,
   "metadata": {},
   "outputs": [
    {
     "data": {
      "text/plain": [
       "array([  1.,   1.,   1.,   1.,   1.,   1.,   1.,   1.,   1.,   1.,   1.,\n",
       "         1.,   1.,   1.,   1.,   1.,   1.,   1.,   1.,   1.,   1.,   1.,\n",
       "         1.,   1.,   1.,   1.,   1.,   1.,   1.,   1.,   1.,   1.,   1.,\n",
       "         1.,   1.,   1.,   1.,   1.,   1., 100., 100., 100., 100., 100.,\n",
       "       100., 100., 100., 100., 100.,  20.,  20.,  20.,  20.,  20.,  20.,\n",
       "        20.,  20.,  20.,  20., 200., 200., 200., 200., 200., 200., 200.,\n",
       "       200., 200., 200., 200., 200., 200., 200., 200., 200., 200., 200.,\n",
       "       200., 200.])"
      ]
     },
     "execution_count": 7,
     "metadata": {},
     "output_type": "execute_result"
    }
   ],
   "source": [
    "model.array()"
   ]
  },
  {
   "cell_type": "markdown",
   "metadata": {},
   "source": [
    "Fréquences utilisées"
   ]
  },
  {
   "cell_type": "code",
   "execution_count": 8,
   "metadata": {},
   "outputs": [],
   "source": [
    "coilspacing = 10\n",
    "nf = 10\n",
    "freq = pg.Vector(nf)\n",
    "freq[0] = 100\n",
    "freq[1] = 400\n",
    "freq[2] = 600\n",
    "freq[3] = 1000\n",
    "freq[4] = 5000\n",
    "freq[5] = 8000\n",
    "freq[6] = 9000\n",
    "freq[7] = 10000\n",
    "freq[8] = 20000\n",
    "freq[9] = 30000"
   ]
  },
  {
   "cell_type": "markdown",
   "metadata": {},
   "source": [
    "Fonction du modèle"
   ]
  },
  {
   "cell_type": "code",
   "execution_count": 9,
   "metadata": {},
   "outputs": [],
   "source": [
    "fEM = pg.core.FDEM1dModelling(nlay, freq, coilspacing)\n",
    "\n",
    "dataEM = fEM(model)"
   ]
  },
  {
   "cell_type": "markdown",
   "metadata": {},
   "source": [
    "Bruit"
   ]
  },
  {
   "cell_type": "code",
   "execution_count": 10,
   "metadata": {},
   "outputs": [],
   "source": [
    "for i in range(len(dataEM)):\n",
    "    dataEM[i] += np.random.random(1)[0] * 0.1"
   ]
  },
  {
   "cell_type": "markdown",
   "metadata": {},
   "source": [
    "Plot du modèle"
   ]
  },
  {
   "cell_type": "code",
   "execution_count": 11,
   "metadata": {},
   "outputs": [
    {
     "data": {
      "image/png": "[encoded data removed]",
      "text/plain": [
       "<Figure size 432x288 with 1 Axes>"
      ]
     },
     "metadata": {
      "needs_background": "light"
     },
     "output_type": "display_data"
    }
   ],
   "source": [
    "plt.scatter(dataEM[:nf], freq, marker = 'x')\n",
    "plt.scatter(dataEM[nf:nf*2], freq, marker = 'o')\n",
    "plt.yscale('log')\n",
    "plt.ylim((min(freq), max(freq)))\n",
    "plt.grid(which='both')\n",
    "plt.xlabel('Phase %')\n",
    "plt.ylabel('$f$ $[Hz]$');"
   ]
  },
  {
   "cell_type": "markdown",
   "metadata": {},
   "source": [
    "Il existe une alternative apperemment (plus logique à mon sens)"
   ]
  },
  {
   "cell_type": "code",
   "execution_count": 12,
   "metadata": {},
   "outputs": [],
   "source": [
    "#Une autre méthode pour comparer. Ca a l'air de donner les memes datas\n",
    "Data_box_FEM = pg.physics.em.FDEM(x=[1],freqs=freq,coilSpacing=coilspacing)\n",
    "FOP = pg.core.FDEM1dRhoModelling(centroids, Data_box_FEM.freq(), Data_box_FEM.coilSpacing,-Data_box_FEM.height)\n",
    "dataEM = FOP(res_EM)\n"
   ]
  },
  {
   "cell_type": "code",
   "execution_count": 13,
   "metadata": {},
   "outputs": [
    {
     "data": {
      "image/png": "[encoded data removed]",
      "text/plain": [
       "<Figure size 432x288 with 1 Axes>"
      ]
     },
     "metadata": {
      "needs_background": "light"
     },
     "output_type": "display_data"
    }
   ],
   "source": [
    "plt.scatter(dataEM[:nf], freq, marker = 'x')\n",
    "plt.scatter(dataEM[nf:nf*2], freq, marker = 'o')\n",
    "plt.yscale('log')\n",
    "plt.ylim((min(freq), max(freq)))\n",
    "plt.grid(which='both')\n",
    "plt.xlabel('Phase %')\n",
    "plt.ylabel('$f$ $[Hz]$');"
   ]
  },
  {
   "cell_type": "markdown",
   "metadata": {},
   "source": [
    "## Inversion FEM\n",
    "\n",
    "But : retrouver notre modèle initial à partir des données"
   ]
  },
  {
   "cell_type": "code",
   "execution_count": 14,
   "metadata": {},
   "outputs": [],
   "source": [
    "transRhoa = pg.trans.TransLog() # paramètre initial - no limit sur les couches\n",
    "transThk = pg.trans.TransLog()\n",
    "transRes = pg.trans.TransLogLU(1., 1000.) # limitation des résistivités - entre 1 et 1000 ohmm\n",
    "transEM = pg.trans.Trans()"
   ]
  },
  {
   "cell_type": "markdown",
   "metadata": {},
   "source": [
    "nombre de couche au modèle"
   ]
  },
  {
   "cell_type": "code",
   "execution_count": 15,
   "metadata": {},
   "outputs": [],
   "source": [
    "nLayer_inv = 20 # nombre de layer du modèle inverse"
   ]
  },
  {
   "cell_type": "markdown",
   "metadata": {},
   "source": [
    "Modèle initial, avant inversion. 2m de couches, uniformes à 10 ohmm"
   ]
  },
  {
   "cell_type": "code",
   "execution_count": 16,
   "metadata": {},
   "outputs": [],
   "source": [
    "thk_inv = pg.Vector(nLayer_inv - 1, 2)  # 2m d'épaisseur par couches\n",
    "res_inv = np.ones(nLayer_inv) *  10\n",
    "initial_model = pg.cat(thk_inv, res_inv)  # mise en commun du modèle"
   ]
  },
  {
   "cell_type": "markdown",
   "metadata": {},
   "source": [
    "Paramètres principaux -> énorme influence sur le résultat ! Comment trouver les bons ?"
   ]
  },
  {
   "cell_type": "code",
   "execution_count": 17,
   "metadata": {},
   "outputs": [],
   "source": [
    "fEM_inv = pg.core.FDEM1dModelling(nLayer_inv, freq, coilspacing)\n",
    "fEM_inv.region(0).setTransModel(transThk)\n",
    "fEM_inv.region(1).setTransModel(transRes)\n",
    "lamEM =  100 # paramètre de régulation pour le modèle"
   ]
  },
  {
   "cell_type": "markdown",
   "metadata": {},
   "source": [
    "Les fameux modèles -> non uniqueness des solutions"
   ]
  },
  {
   "cell_type": "code",
   "execution_count": 18,
   "metadata": {},
   "outputs": [],
   "source": [
    "invEM = pg.core.Inversion(dataEM, fEM_inv, transEM)\n",
    "invEM.setModel(initial_model)\n",
    "invEM.setRelativeError(0.1/100)\n",
    "invEM.setLambda(lamEM)\n",
    "invEM.setMarquardtScheme(0.8)\n",
    "invEM.setDeltaPhiAbortPercent(0.00001)\n",
    "invEM.setMaxIter(40)\n",
    "invEM.setBlockyModel(True)"
   ]
  },
  {
   "cell_type": "markdown",
   "metadata": {},
   "source": [
    "Finalisation du modèle EM"
   ]
  },
  {
   "cell_type": "code",
   "execution_count": 19,
   "metadata": {},
   "outputs": [],
   "source": [
    "modelEM = invEM.run()\n",
    "respEM = invEM.response()"
   ]
  },
  {
   "cell_type": "markdown",
   "metadata": {},
   "source": [
    "Données"
   ]
  },
  {
   "cell_type": "code",
   "execution_count": 20,
   "metadata": {},
   "outputs": [
    {
     "data": {
      "text/plain": [
       "array([  1.53928702,  35.2226779 ,  20.23214385,   1.7030077 ,\n",
       "         1.38304944,   1.69181879,   2.47510245,   4.1337981 ,\n",
       "         5.63145163,   5.79442032,   4.94479274,   3.96288597,\n",
       "         3.27491279,   2.91410358,   2.78608373,   2.78519122,\n",
       "         2.83060147,   2.87849276,   2.90758611, 960.75205041,\n",
       "        80.27132796, 255.31810861,   7.3405503 ,   2.02111213,\n",
       "         6.55704425,  33.85966935,  75.37134913,  94.89388538,\n",
       "        91.94870427,  75.60177085,  53.57682332,  33.30553404,\n",
       "        19.19316915,  11.17713926,   7.11492544,   5.12815018,\n",
       "         4.14624986,   3.66648957,  39.81565309])"
      ]
     },
     "execution_count": 20,
     "metadata": {},
     "output_type": "execute_result"
    }
   ],
   "source": [
    "np.array(modelEM)"
   ]
  },
  {
   "cell_type": "markdown",
   "metadata": {},
   "source": [
    "Plot"
   ]
  },
  {
   "cell_type": "code",
   "execution_count": 21,
   "metadata": {},
   "outputs": [
    {
     "data": {
      "image/png": "[encoded data removed]",
      "text/plain": [
       "<Figure size 432x288 with 1 Axes>"
      ]
     },
     "metadata": {
      "needs_background": "light"
     },
     "output_type": "display_data"
    }
   ],
   "source": [
    "plt.semilogy(dataEM[0:nf], freq, 'bx', label='syn In-Phase')\n",
    "plt.semilogy(dataEM[nf:nf*2], freq, 'bo', label='syn Out Phase')\n",
    "plt.semilogy(respEM[0:nf], freq, 'rx', label='syn In-Phase - Inv')\n",
    "plt.semilogy(respEM[nf:nf*2], freq, 'ro', label='syn Out Phase - Inv')\n",
    "plt.ylim((min(freq), max(freq)))\n",
    "plt.xlabel(\"Phase in %\")\n",
    "plt.ylabel(\"$f$ in Hz\")\n",
    "plt.grid(which='both')\n",
    "plt.legend(loc=\"best\");"
   ]
  },
  {
   "cell_type": "markdown",
   "metadata": {},
   "source": [
    "Reconstruction du modèle initial"
   ]
  },
  {
   "cell_type": "code",
   "execution_count": 22,
   "metadata": {},
   "outputs": [],
   "source": [
    "model_Final = np.array(modelEM)\n",
    "cetr = np.cumsum(model_Final[0:nLayer_inv-2])\n",
    "res_Final = model_Final[nLayer_inv-1:-2]"
   ]
  },
  {
   "cell_type": "code",
   "execution_count": 23,
   "metadata": {},
   "outputs": [
    {
     "data": {
      "image/png": "[encoded data removed]",
      "text/plain": [
       "<Figure size 864x576 with 1 Axes>"
      ]
     },
     "metadata": {
      "needs_background": "light"
     },
     "output_type": "display_data"
    }
   ],
   "source": [
    "fig, ax = plt.subplots(figsize = ((12,8)))\n",
    "pg.viewer.mpl.drawModel1D(ax, values=res_Final, depths=cetr,plot='semilogx', \n",
    "                          color='blue',label='Initial Model')\n",
    "pg.viewer.mpl.drawModel1D(ax, values=res_EM[:-1], depths=centroids,plot='semilogx', \n",
    "                          color='red',label='Inverted Model')\n",
    "plt.legend();"
   ]
  }
 ],
 "metadata": {
  "kernelspec": {
   "display_name": "Python 3",
   "language": "python",
   "name": "python3"
  },
  "language_info": {
   "codemirror_mode": {
    "name": "ipython",
    "version": 3
   },
   "file_extension": ".py",
   "mimetype": "text/x-python",
   "name": "python",
   "nbconvert_exporter": "python",
   "pygments_lexer": "ipython3",
   "version": "3.7.9"
  }
 },
 "nbformat": 4,
 "nbformat_minor": 4
}
