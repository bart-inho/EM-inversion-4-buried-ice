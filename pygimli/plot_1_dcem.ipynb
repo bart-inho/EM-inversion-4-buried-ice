{
 "cells": [
  {
   "cell_type": "code",
   "execution_count": 1,
   "metadata": {},
   "outputs": [],
   "source": [
    "# Checkout www.pygimli.org for more examples"
   ]
  },
  {
   "cell_type": "markdown",
   "metadata": {},
   "source": [
    "\n",
    "DC-EM Joint inversion\n",
    "---------------------\n",
    "\n",
    "This is an old script from early pyGIMLi jointly inverting direct current (DC)\n",
    "and electromagnetic (EM) soundings on the modelling abstraction level.\n",
    "Note that this is not recommended as a basis for programming, because there\n",
    "is a dedicated framework for classical joint inversion. However, it explains\n",
    "what happens under the hood in the much simpler script that follows.\n"
   ]
  },
  {
   "cell_type": "markdown",
   "metadata": {},
   "source": [
    "The case has been documented by :cite:`Guenther2013NSG`.\n",
    "\n"
   ]
  },
  {
   "cell_type": "code",
   "execution_count": 2,
   "metadata": {},
   "outputs": [
    {
     "ename": "ModuleNotFoundError",
     "evalue": "No module named 'numpy'",
     "output_type": "error",
     "traceback": [
      "\u001b[0;31m---------------------------------------------------------------------------\u001b[0m",
      "\u001b[0;31mModuleNotFoundError\u001b[0m                       Traceback (most recent call last)",
      "\u001b[0;32m<ipython-input-2-a0558bc113f6>\u001b[0m in \u001b[0;36m<module>\u001b[0;34m\u001b[0m\n\u001b[0;32m----> 1\u001b[0;31m \u001b[0;32mimport\u001b[0m \u001b[0mnumpy\u001b[0m \u001b[0;32mas\u001b[0m \u001b[0mnp\u001b[0m\u001b[0;34m\u001b[0m\u001b[0;34m\u001b[0m\u001b[0m\n\u001b[0m\u001b[1;32m      2\u001b[0m \u001b[0;32mimport\u001b[0m \u001b[0mmatplotlib\u001b[0m\u001b[0;34m.\u001b[0m\u001b[0mpyplot\u001b[0m \u001b[0;32mas\u001b[0m \u001b[0mplt\u001b[0m\u001b[0;34m\u001b[0m\u001b[0;34m\u001b[0m\u001b[0m\n\u001b[1;32m      3\u001b[0m \u001b[0;34m\u001b[0m\u001b[0m\n\u001b[1;32m      4\u001b[0m \u001b[0;32mimport\u001b[0m \u001b[0mpygimli\u001b[0m \u001b[0;32mas\u001b[0m \u001b[0mpg\u001b[0m\u001b[0;34m\u001b[0m\u001b[0;34m\u001b[0m\u001b[0m\n\u001b[1;32m      5\u001b[0m \u001b[0;32mfrom\u001b[0m \u001b[0mpygimli\u001b[0m\u001b[0;34m.\u001b[0m\u001b[0mmplviewer\u001b[0m \u001b[0;32mimport\u001b[0m \u001b[0mdrawModel1D\u001b[0m\u001b[0;34m\u001b[0m\u001b[0;34m\u001b[0m\u001b[0m\n",
      "\u001b[0;31mModuleNotFoundError\u001b[0m: No module named 'numpy'"
     ]
    }
   ],
   "source": [
    "import numpy as np\n",
    "import matplotlib.pyplot as plt\n",
    "\n",
    "import pygimli as pg\n",
    "from pygimli.mplviewer import drawModel1D"
   ]
  },
  {
   "cell_type": "markdown",
   "metadata": {},
   "source": [
    "First, we define a modelling class that calls two other classes and pastes\n",
    "their results to one vector.\n",
    "\n"
   ]
  },
  {
   "cell_type": "code",
   "execution_count": null,
   "metadata": {},
   "outputs": [],
   "source": [
    "class DCEM1dModelling(pg.ModellingBase):\n",
    "    \"\"\"Modelling jointing DC and EM 1Dforward operators.\"\"\"\n",
    "\n",
    "    def __init__(self, nlay, ab2, mn2, freq, coilspacing, verbose=False):\n",
    "        \"\"\"Init number of layers, AB/2, MN/2, frequencies & coil spacing.\"\"\"\n",
    "        pg.ModellingBase.__init__(self, verbose)\n",
    "        self.nlay_ = nlay\n",
    "        self.fDC_ = pg.DC1dModelling(nlay, ab2, mn2, verbose)\n",
    "        self.fEM_ = pg.FDEM1dModelling(nlay, freq, coilspacing, verbose)\n",
    "        self.mesh_ = pg.createMesh1DBlock(nlay)\n",
    "        self.setMesh(self.mesh_)\n",
    "\n",
    "    def response(self, model):\n",
    "        \"\"\"Return concatenated response of DC and EM FOPs.\"\"\"\n",
    "        return pg.cat(self.fDC_(model), self.fEM_(model))"
   ]
  },
  {
   "cell_type": "markdown",
   "metadata": {},
   "source": [
    "The actual script starts here. There are some options to play with\n",
    "\n"
   ]
  },
  {
   "cell_type": "code",
   "execution_count": null,
   "metadata": {},
   "outputs": [],
   "source": [
    "noiseEM = 1.  # absolute (per cent of primary signal)\n",
    "noiseDC = 3.  # in per cent\n",
    "lamEM, lamDC, lamDCEM = 300., 500., 500.  # regularization strength\n",
    "verbose = False"
   ]
  },
  {
   "cell_type": "markdown",
   "metadata": {},
   "source": [
    "First we create a synthetic model.\n",
    "\n"
   ]
  },
  {
   "cell_type": "code",
   "execution_count": null,
   "metadata": {},
   "outputs": [],
   "source": [
    "nlay = 3  # number of layers\n",
    "thk = pg.RVector(nlay - 1, 15.0)  # 15m thickness each\n",
    "res = pg.RVector(nlay, 200.0)  # 200 Ohmm\n",
    "res[1] = 10.\n",
    "res[2] = 50.\n",
    "model = pg.cat(thk, res)  # paste together to one model"
   ]
  },
  {
   "cell_type": "markdown",
   "metadata": {},
   "source": [
    "We first set up EM forward operator and generate synthetic data with noise\n",
    "\n"
   ]
  },
  {
   "cell_type": "code",
   "execution_count": null,
   "metadata": {},
   "outputs": [],
   "source": [
    "coilspacing = 50.\n",
    "nf = 10\n",
    "freq = pg.RVector(nf, 110.)\n",
    "for i in range(nf-1):\n",
    "    freq[i+1] = freq[i] * 2.\n",
    "\n",
    "fEM = pg.FDEM1dModelling(nlay, freq, coilspacing)\n",
    "dataEM = fEM(model)\n",
    "for i in range(len(dataEM)):\n",
    "    dataEM[i] += np.random.randn(1)[0] * noiseEM"
   ]
  },
  {
   "cell_type": "markdown",
   "metadata": {},
   "source": [
    "We define model transformations: logarithms and log with upper+lower bounds\n",
    "\n"
   ]
  },
  {
   "cell_type": "code",
   "execution_count": null,
   "metadata": {},
   "outputs": [],
   "source": [
    "transRhoa = pg.RTransLog()\n",
    "transThk = pg.RTransLog()\n",
    "transRes = pg.RTransLogLU(1., 1000.)\n",
    "transEM = pg.RTrans()\n",
    "fEM.region(0).setTransModel(transThk)\n",
    "fEM.region(1).setTransModel(transRes)"
   ]
  },
  {
   "cell_type": "markdown",
   "metadata": {},
   "source": [
    "We set up the independent EM inversion and run the model.\n",
    "\n"
   ]
  },
  {
   "cell_type": "code",
   "execution_count": null,
   "metadata": {},
   "outputs": [],
   "source": [
    "invEM = pg.RInversion(dataEM, fEM, transEM, verbose)\n",
    "modelEM = pg.RVector(nlay * 2 - 1, 50.)\n",
    "invEM.setModel(modelEM)\n",
    "invEM.setAbsoluteError(noiseEM)\n",
    "invEM.setLambda(lamEM)\n",
    "invEM.setMarquardtScheme(0.9)\n",
    "modelEM = invEM.run()\n",
    "respEM = invEM.response()"
   ]
  },
  {
   "cell_type": "markdown",
   "metadata": {},
   "source": [
    "Next we set up the DC forward operator and generate synthetic data with noise\n",
    "\n"
   ]
  },
  {
   "cell_type": "code",
   "execution_count": null,
   "metadata": {},
   "outputs": [],
   "source": [
    "ab2 = pg.RVector(20, 3.)\n",
    "na = len(ab2)\n",
    "mn2 = pg.RVector(na, 1.0)\n",
    "for i in range(na-1):\n",
    "    ab2[i+1] = ab2[i] * 1.3\n",
    "fDC = pg.DC1dModelling(nlay, ab2, mn2)\n",
    "dataDC = fDC(model)\n",
    "for i in range(len(dataDC)):\n",
    "    dataDC[i] *= 1. + np.random.randn(1)[0] * noiseDC / 100.\n",
    "\n",
    "fDC.region(0).setTransModel(transThk)\n",
    "fDC.region(1).setTransModel(transRes)\n",
    "\n",
    "# We set up the independent DC inversion and let it run.\n",
    "invDC = pg.RInversion(dataDC, fDC, transRhoa, verbose)\n",
    "modelDC = pg.RVector(nlay*2-1, 20.)\n",
    "invDC.setModel(modelDC)\n",
    "invDC.setRelativeError(noiseDC/100.)\n",
    "invDC.setLambda(lamDC)\n",
    "invDC.setMarquardtScheme(0.9)\n",
    "modelDC = invDC.run()\n",
    "respDC = invDC.response()"
   ]
  },
  {
   "cell_type": "markdown",
   "metadata": {},
   "source": [
    "Next we create a the joint forward operator (see class above).\n",
    "\n"
   ]
  },
  {
   "cell_type": "code",
   "execution_count": null,
   "metadata": {},
   "outputs": [],
   "source": [
    "fDCEM = DCEM1dModelling(nlay, ab2, mn2, freq, coilspacing)\n",
    "fDCEM.region(0).setTransModel(transThk)\n",
    "fDCEM.region(1).setTransModel(transRes)"
   ]
  },
  {
   "cell_type": "markdown",
   "metadata": {},
   "source": [
    "We setup the joint inversion combining, transformations, data and errors.\n",
    "\n"
   ]
  },
  {
   "cell_type": "code",
   "execution_count": null,
   "metadata": {},
   "outputs": [],
   "source": [
    "transData = pg.RTransCumulative()\n",
    "transData.add(transRhoa, na)\n",
    "transData.add(transEM, nf*2)\n",
    "invDCEM = pg.RInversion(pg.cat(dataDC, dataEM), fDCEM, transData, verbose)\n",
    "modelDCEM = pg.RVector(nlay * 2 - 1, 20.)\n",
    "invDCEM.setModel(modelDCEM)\n",
    "err = pg.cat(dataDC * noiseDC / 100., pg.RVector(len(dataEM), noiseEM))\n",
    "invDCEM.setAbsoluteError(err)\n",
    "invDCEM.setLambda(lamDCEM)\n",
    "invDCEM.setMarquardtScheme(0.9)\n",
    "modelDCEM = invDCEM.run()\n",
    "respDCEM = invDCEM.response()"
   ]
  },
  {
   "cell_type": "markdown",
   "metadata": {},
   "source": [
    "The results of the inversion are plotted for comparison.\n",
    "\n"
   ]
  },
  {
   "cell_type": "code",
   "execution_count": null,
   "metadata": {},
   "outputs": [],
   "source": [
    "for inv in [invEM, invDC, invDCEM]:\n",
    "    inv.echoStatus()\n",
    "print([invEM.chi2(), invDC.chi2(), invDCEM.chi2()])  # chi-square values"
   ]
  },
  {
   "cell_type": "markdown",
   "metadata": {},
   "source": [
    "%% We finally plot the results\n",
    "\n"
   ]
  },
  {
   "cell_type": "code",
   "execution_count": null,
   "metadata": {},
   "outputs": [],
   "source": [
    "fig = plt.figure(1, figsize=(10, 5))\n",
    "ax1 = fig.add_subplot(131)\n",
    "drawModel1D(ax1, thk, res, plot='semilogx', color='blue')\n",
    "drawModel1D(ax1, modelEM(0, nlay-1), modelEM(nlay-1, nlay*2-1), color='green')\n",
    "drawModel1D(ax1, modelDC(0, nlay-1), modelDC(nlay-1, nlay*2-1), color='cyan')\n",
    "drawModel1D(ax1, modelDCEM(0, nlay-1), modelDCEM(nlay-1, nlay*2-1),\n",
    "            color='red')\n",
    "ax1.legend(('syn', 'EM', 'DC', 'JI'))\n",
    "ax1.set_xlim((10., 1000.))\n",
    "ax1.set_ylim((40., 0.))\n",
    "ax1.grid(which='both')\n",
    "ax2 = fig.add_subplot(132)\n",
    "ax2.semilogy(dataEM(0, nf), freq, 'bx', label='syn IP')\n",
    "ax2.semilogy(dataEM(nf, nf*2), freq, 'bo', label='syn OP')\n",
    "ax2.semilogy(respEM(0, nf), freq, 'g--', label='EM')\n",
    "ax2.semilogy(respEM(nf, nf*2), freq, 'g--')\n",
    "ax2.semilogy(respDCEM(na, na+nf), freq, 'r:', label='DCEM')\n",
    "ax2.semilogy(respDCEM(na+nf, na+nf*2), freq, 'r:')\n",
    "ax2.set_ylim((min(freq), max(freq)))\n",
    "ax2.set_xlabel(\"IP/OP in %\")\n",
    "ax2.set_ylabel(\"$f$ in Hz\")\n",
    "ax2.yaxis.set_label_position(\"right\")\n",
    "ax2.grid(which='both')\n",
    "ax2.legend(loc=\"best\")\n",
    "ax3 = fig.add_subplot(133)\n",
    "ax3.loglog(dataDC, ab2, 'bx-', label='syn')\n",
    "ax3.loglog(respDC, ab2, 'c-', label='DC')\n",
    "ax3.loglog(respDCEM(0, na), ab2, 'r:', label='DCEM')\n",
    "# ax3.axis('tight')\n",
    "ax3.set_ylim((max(ab2), min(ab2)))\n",
    "ax3.grid(which='both')\n",
    "ax3.set_xlabel(r\"$\\rho_a$ in $\\Omega$m\")\n",
    "ax3.set_ylabel(\"AB/2 in m\")\n",
    "ax3.yaxis.set_ticks_position(\"right\")\n",
    "ax3.yaxis.set_label_position(\"right\")\n",
    "ax3.legend(loc=\"best\")\n",
    "pg.wait()"
   ]
  },
  {
   "cell_type": "code",
   "execution_count": null,
   "metadata": {},
   "outputs": [],
   "source": [
    "# Günther, T. (2013): On Inversion of Frequency Domain Electromagnetic Data in\n",
    "# Salt Water Problems - Sensitivity and Resolution. Ext. Abstr., 19th European\n",
    "# Meeting of Environmental and Engineering Geophysics, Bochum, Germany."
   ]
  }
 ],
 "metadata": {
  "kernelspec": {
   "display_name": "Python 3",
   "language": "python",
   "name": "python3"
  },
  "language_info": {
   "codemirror_mode": {
    "name": "ipython",
    "version": 3
   },
   "file_extension": ".py",
   "mimetype": "text/x-python",
   "name": "python",
   "nbconvert_exporter": "python",
   "pygments_lexer": "ipython3",
   "version": "3.7.3"
  }
 },
 "nbformat": 4,
 "nbformat_minor": 1
}
