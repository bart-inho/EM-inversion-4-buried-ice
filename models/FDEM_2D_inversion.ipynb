{
 "cells": [
  {
   "cell_type": "code",
   "execution_count": 1,
   "metadata": {},
   "outputs": [],
   "source": [
    "%matplotlib inline"
   ]
  },
  {
   "cell_type": "markdown",
   "metadata": {},
   "source": [
    "\n",
    "# 2D inversion of Loop-Loop EM Data\n",
    "\n",
    "In this example, we consider a single line of loop-loop EM data\n",
    "at 30kHz with 3 different coil separations [0.32m, 0.71m, 1.18m].\n",
    "We will use only Horizontal co-planar orientations (vertical magnetic dipole),\n",
    "and look at the real and imaginary parts of the secondary magnetic field.\n",
    "\n",
    "We use the :class:`SimPEG.maps.Surject2Dto3D` mapping to invert for a 2D model\n",
    "and perform the forward modelling in 3D.\n"
   ]
  },
  {
   "cell_type": "code",
   "execution_count": 2,
   "metadata": {},
   "outputs": [
    {
     "name": "stdout",
     "output_type": "stream",
     "text": [
      "Importing Jupyter notebook from send_email.ipynb\n"
     ]
    }
   ],
   "source": [
    "import numpy as np\n",
    "import matplotlib.pyplot as plt\n",
    "import time\n",
    "import nbimporter\n",
    "from send_email import SendEmail\n",
    "from pymatsolver import Pardiso as Solver\n",
    "\n",
    "import discretize\n",
    "from SimPEG import (\n",
    "    maps,\n",
    "    optimization,\n",
    "    data_misfit,\n",
    "    regularization,\n",
    "    inverse_problem,\n",
    "    inversion,\n",
    "    directives,\n",
    "    Report,\n",
    ")\n",
    "from SimPEG.electromagnetics import frequency_domain as FDEM"
   ]
  },
  {
   "cell_type": "markdown",
   "metadata": {},
   "source": [
    "## Setup\n",
    "\n",
    "Define the survey and model parameters\n",
    "\n",
    "\n"
   ]
  },
  {
   "cell_type": "code",
   "execution_count": 3,
   "metadata": {},
   "outputs": [
    {
     "name": "stdout",
     "output_type": "stream",
     "text": [
      "skin_depth: 27.52m\n"
     ]
    }
   ],
   "source": [
    "sigma_tills = 1.1e-4 # moraine conductivity\n",
    "sigma_burice = 1.25e-6 # burried ice conductivity \n",
    "sigma_air = 1e-8 # Air conductivity\n",
    "sigma_mean = (sigma_tills+sigma_burice)/ 2\n",
    "\n",
    "coil_separations = [0.32, 0.71, 1.18]\n",
    "freq = 30e5\n",
    "\n",
    "print(\"skin_depth: {:1.2f}m\".format(500 / np.sqrt(sigma_tills * freq)))"
   ]
  },
  {
   "cell_type": "markdown",
   "metadata": {},
   "source": [
    "Define a dipping interface between the surface layer and the deeper layer\n",
    "\n",
    "\n"
   ]
  },
  {
   "cell_type": "code",
   "execution_count": 4,
   "metadata": {},
   "outputs": [],
   "source": [
    "z_interface_shallow = -0.25\n",
    "z_interface_deep = -1.5\n",
    "x_dip = np.r_[0.0, 8.0]\n",
    "\n",
    "\n",
    "def interface(x):\n",
    "    interface = np.zeros_like(x)\n",
    "\n",
    "    interface[x < x_dip[0]] = z_interface_shallow\n",
    "\n",
    "    dipping_unit = (x >= x_dip[0]) & (x <= x_dip[1])\n",
    "    x_dipping = (-(z_interface_shallow - z_interface_deep) / x_dip[1]) * (\n",
    "        x[dipping_unit]\n",
    "    ) + z_interface_shallow\n",
    "    interface[dipping_unit] = x_dipping\n",
    "\n",
    "    interface[x > x_dip[1]] = z_interface_deep\n",
    "\n",
    "    return interface"
   ]
  },
  {
   "cell_type": "markdown",
   "metadata": {},
   "source": [
    "## Forward Modelling Mesh\n",
    "\n",
    "Here, we set up a 3D tensor mesh which we will perform the forward\n",
    "simulations on.\n",
    "\n",
    "<div class=\"alert alert-info\"><h4>Note</h4><p>In practice, a smaller horizontal discretization should be used to improve\n",
    "  accuracy, particularly for the shortest offset (eg. you can try 0.25m).</p></div>\n",
    "\n"
   ]
  },
  {
   "cell_type": "code",
   "execution_count": 5,
   "metadata": {},
   "outputs": [
    {
     "name": "stdout",
     "output_type": "stream",
     "text": [
      "the mesh has 34200 cells\n"
     ]
    },
    {
     "data": {
      "text/plain": [
       "<Axes3DSubplot:xlabel='x1', ylabel='x2'>"
      ]
     },
     "execution_count": 5,
     "metadata": {},
     "output_type": "execute_result"
    },
    {
     "data": {
      "image/png": "[encoded data removed]",
      "text/plain": [
       "<Figure size 432x288 with 1 Axes>"
      ]
     },
     "metadata": {
      "needs_background": "light"
     },
     "output_type": "display_data"
    }
   ],
   "source": [
    "csx = 0.5  # cell size for the horizontal direction\n",
    "csz = 0.125  # cell size for the vertical direction\n",
    "pf = 1.3  # expansion factor for the padding cells\n",
    "\n",
    "npadx = 7  # number of padding cells in the x-direction\n",
    "npady = 7  # number of padding cells in the y-direction\n",
    "npadz = 11  # number of padding cells in the z-direction\n",
    "\n",
    "core_domain_x = np.r_[-11.5, 11.5]  # extent of uniform cells in the x-direction\n",
    "core_domain_z = np.r_[-2.0, 0.0]  # extent of uniform cells in the z-direction\n",
    "\n",
    "# number of cells in the core region\n",
    "ncx = int(np.diff(core_domain_x) / csx)\n",
    "ncz = int(np.diff(core_domain_z) / csz)\n",
    "\n",
    "# create a 3D tensor mesh\n",
    "mesh = discretize.TensorMesh(\n",
    "    [\n",
    "        [(csx, npadx, -pf), (csx, ncx), (csx, npadx, pf)],\n",
    "        [(csx, npady, -pf), (csx, 1), (csx, npady, pf)],\n",
    "        [(csz, npadz, -pf), (csz, ncz), (csz, npadz, pf)],\n",
    "    ]\n",
    ")\n",
    "# set the origin\n",
    "mesh.x0 = np.r_[\n",
    "    -mesh.hx.sum() / 2.0, -mesh.hy.sum() / 2.0, -mesh.hz[: npadz + ncz].sum()\n",
    "]\n",
    "\n",
    "print(\"the mesh has {} cells\".format(mesh.nC))\n",
    "mesh.plotGrid()"
   ]
  },
  {
   "cell_type": "markdown",
   "metadata": {},
   "source": [
    "## Inversion Mesh\n",
    "\n",
    "Here, we set up a 2D tensor mesh which we will represent the inversion model\n",
    "on\n",
    "\n"
   ]
  },
  {
   "cell_type": "code",
   "execution_count": 6,
   "metadata": {
    "scrolled": true
   },
   "outputs": [
    {
     "data": {
      "text/plain": [
       "<AxesSubplot:xlabel='x1', ylabel='x2'>"
      ]
     },
     "execution_count": 6,
     "metadata": {},
     "output_type": "execute_result"
    },
    {
     "data": {
      "image/png": "[encoded data removed]",
      "text/plain": [
       "<Figure size 432x288 with 1 Axes>"
      ]
     },
     "metadata": {
      "needs_background": "light"
     },
     "output_type": "display_data"
    }
   ],
   "source": [
    "inversion_mesh = discretize.TensorMesh([mesh.hx, mesh.hz[mesh.vectorCCz <= 0]])\n",
    "inversion_mesh.x0 = [-inversion_mesh.hx.sum() / 2.0, -inversion_mesh.hy.sum()]\n",
    "inversion_mesh.plotGrid()"
   ]
  },
  {
   "cell_type": "markdown",
   "metadata": {},
   "source": [
    "## Mappings\n",
    "\n",
    "Mappings are used to take the inversion model and represent it as electrical\n",
    "conductivity on the inversion mesh. We will invert for log-conductivity below\n",
    "the surface, fixing the conductivity of the air cells to 1e-8 S/m\n",
    "\n"
   ]
  },
  {
   "cell_type": "code",
   "execution_count": 7,
   "metadata": {},
   "outputs": [],
   "source": [
    "# create a 2D mesh that includes air cells\n",
    "mesh2D = discretize.TensorMesh([mesh.hx, mesh.hz], x0=mesh.x0[[0, 2]])\n",
    "active_inds = mesh2D.gridCC[:, 1] < 0  # active indices are below the surface\n",
    "\n",
    "mapping = (\n",
    "    maps.Surject2Dto3D(mesh)\n",
    "    * maps.InjectActiveCells(  # populates 3D space from a 2D model\n",
    "        mesh2D, active_inds, sigma_air\n",
    "    )\n",
    "    * maps.ExpMap(  # adds air cells\n",
    "        nP=inversion_mesh.nC\n",
    "    )  # takes the exponential (log(sigma) --> sigma)\n",
    ")"
   ]
  },
  {
   "cell_type": "markdown",
   "metadata": {},
   "source": [
    "## True Model\n",
    "\n",
    "Create our true model which we will use to generate synthetic data for\n",
    "\n"
   ]
  },
  {
   "cell_type": "code",
   "execution_count": 8,
   "metadata": {
    "scrolled": true
   },
   "outputs": [
    {
     "data": {
      "text/plain": [
       "(-2.0, 0.0)"
      ]
     },
     "execution_count": 8,
     "metadata": {},
     "output_type": "execute_result"
    },
    {
     "data": {
      "image/png": "[encoded data removed]",
      "text/plain": [
       "<Figure size 432x288 with 2 Axes>"
      ]
     },
     "metadata": {
      "needs_background": "light"
     },
     "output_type": "display_data"
    }
   ],
   "source": [
    "m_true = np.log(sigma_tills) * np.ones(inversion_mesh.nC) # Création de la grille 1620\n",
    "interface_depth = interface(inversion_mesh.gridCC[:, 0]) # \n",
    "m_true[inversion_mesh.gridCC[:, 1] < interface_depth*2] = np.log(sigma_burice)\n",
    "m_true[:900] = np.log(sigma_tills)\n",
    "m_true[1500:] = np.log(sigma_air)\n",
    "\n",
    "#m_true[995:1300] = np.log(sigma_tills)\n",
    "\n",
    "fig, ax = plt.subplots(1, 1)\n",
    "cb = plt.colorbar(inversion_mesh.plotImage(m_true, ax=ax, grid=True)[0], ax=ax)\n",
    "cb.set_label(\"$\\log(\\sigma)$\")\n",
    "ax.set_title(\"true model\")\n",
    "ax.set_xlim([-10, 10])\n",
    "ax.set_ylim([-2, 0])"
   ]
  },
  {
   "cell_type": "code",
   "execution_count": 9,
   "metadata": {},
   "outputs": [
    {
     "data": {
      "text/plain": [
       "(-18.420680743952367, -13.592367006650065, -9.115030192171858)"
      ]
     },
     "execution_count": 9,
     "metadata": {},
     "output_type": "execute_result"
    }
   ],
   "source": [
    "np.log(sigma_air), np.log(sigma_burice), np.log(sigma_tills)"
   ]
  },
  {
   "cell_type": "markdown",
   "metadata": {},
   "source": [
    "## Survey\n",
    "\n",
    "Create our true model which we will use to generate synthetic data for\n",
    "\n"
   ]
  },
  {
   "cell_type": "code",
   "execution_count": 10,
   "metadata": {},
   "outputs": [],
   "source": [
    "src_locations = np.arange(-11, 11, 0.5)\n",
    "src_z = 0.25  # src is 0.25m above the surface\n",
    "orientation = \"z\"  # z-oriented dipole for horizontal co-planar loops\n",
    "\n",
    "# reciever offset in 3D space\n",
    "rx_offsets = np.vstack([np.r_[sep, 0.0, 0.0] for sep in coil_separations])\n",
    "\n",
    "# create our source list - one source per location\n",
    "srcList = []\n",
    "for x in src_locations:\n",
    "    src_loc = np.r_[x, 0.0, src_z]\n",
    "    rx_locs = src_loc - rx_offsets\n",
    "\n",
    "    rx_real = FDEM.Rx.PointMagneticFluxDensitySecondary(\n",
    "        locations=rx_locs, orientation=orientation, component=\"real\"\n",
    "    )\n",
    "    rx_imag = FDEM.Rx.PointMagneticFluxDensitySecondary(\n",
    "        locations=rx_locs, orientation=orientation, component=\"imag\"\n",
    "    )\n",
    "\n",
    "    src = FDEM.Src.MagDipole(\n",
    "        receiver_list=[rx_real, rx_imag],\n",
    "        loc=src_loc,\n",
    "        orientation=orientation,\n",
    "        freq=freq,\n",
    "    )\n",
    "\n",
    "    srcList.append(src)\n",
    "\n",
    "# create the survey and problem objects for running the forward simulation\n",
    "survey = FDEM.Survey(srcList)\n",
    "prob = FDEM.Simulation3DMagneticFluxDensity(\n",
    "    mesh, survey=survey, sigmaMap=mapping, Solver=Solver\n",
    ")"
   ]
  },
  {
   "cell_type": "markdown",
   "metadata": {},
   "source": [
    "## Set up data for inversion\n",
    "\n",
    "Generate clean, synthetic data. Later we will invert the clean data, and\n",
    "assign a standard deviation of 0.05, and a floor of 1e-11.\n",
    "\n"
   ]
  },
  {
   "cell_type": "code",
   "execution_count": 11,
   "metadata": {},
   "outputs": [
    {
     "name": "stdout",
     "output_type": "stream",
     "text": [
      "Done forward simulation. Elapsed time = 14.92 s\n"
     ]
    },
    {
     "data": {
      "image/png": "[encoded data removed]",
      "text/plain": [
       "<Figure size 1080x360 with 3 Axes>"
      ]
     },
     "metadata": {
      "needs_background": "light"
     },
     "output_type": "display_data"
    }
   ],
   "source": [
    "t = time.time()\n",
    "\n",
    "data = prob.make_synthetic_data(\n",
    "    m_true, relative_error=0.05, noise_floor=1e-11, add_noise=True\n",
    ")\n",
    "\n",
    "dclean = data.dclean\n",
    "print(\"Done forward simulation. Elapsed time = {:1.2f} s\".format(time.time() - t))\n",
    "\n",
    "\n",
    "def plot_data(data, ax=None, color=\"C0\", label=\"\"):\n",
    "    if ax is None:\n",
    "        fig, ax = plt.subplots(1, 3, figsize=(15, 5))\n",
    "\n",
    "    # data is [re, im, re, im, ...]\n",
    "    data_real = data[0::2]\n",
    "    data_imag = data[1::2]\n",
    "\n",
    "    for i, offset in enumerate(coil_separations):\n",
    "        ax[i].plot(\n",
    "            src_locations,\n",
    "            data_real[i :: len(coil_separations)],\n",
    "            color=color,\n",
    "            label=\"{} real\".format(label),\n",
    "        )\n",
    "        ax[i].plot(\n",
    "            src_locations,\n",
    "            data_imag[i :: len(coil_separations)],\n",
    "            \"--\",\n",
    "            color=color,\n",
    "            label=\"{} imag\".format(label),\n",
    "        )\n",
    "\n",
    "        ax[i].set_title(\"offset = {:1.2f}m\".format(offset))\n",
    "        ax[i].legend()\n",
    "        ax[i].grid(which=\"both\")\n",
    "        ax[i].set_ylim(np.r_[data.min(), data.max()] + 1e-11 * np.r_[-1, 1])\n",
    "\n",
    "        ax[i].set_xlabel(\"source location x (m)\")\n",
    "        ax[i].set_ylabel(\"Secondary B-Field (T)\")\n",
    "\n",
    "    plt.tight_layout()\n",
    "    return ax\n",
    "\n",
    "\n",
    "ax = plot_data(dclean)"
   ]
  },
  {
   "cell_type": "markdown",
   "metadata": {},
   "source": [
    "## Set up the inversion\n",
    "\n",
    "We create the data misfit, simple regularization\n",
    "(a Tikhonov-style regularization, :class:`SimPEG.regularization.Simple`)\n",
    "The smoothness and smallness contributions can be set by including\n",
    "`alpha_s, alpha_x, alpha_y` as input arguments when the regularization is\n",
    "created. The default reference model in the regularization is the starting\n",
    "model. To set something different, you can input an `mref` into the\n",
    "regularization.\n",
    "\n",
    "We estimate the trade-off parameter, beta, between the data\n",
    "misfit and regularization by the largest eigenvalue of the data misfit and\n",
    "the regularization. Here, we use a fixed beta, but could alternatively\n",
    "employ a beta-cooling schedule using :class:`SimPEG.directives.BetaSchedule`\n",
    "\n"
   ]
  },
  {
   "cell_type": "code",
   "execution_count": 12,
   "metadata": {},
   "outputs": [
    {
     "name": "stdout",
     "output_type": "stream",
     "text": [
      "The target misfit is 132.00\n"
     ]
    }
   ],
   "source": [
    "dmisfit = data_misfit.L2DataMisfit(simulation=prob, data=data)\n",
    "reg = regularization.Simple(inversion_mesh)\n",
    "opt = optimization.InexactGaussNewton(maxIterCG=10, remember=\"xc\")\n",
    "invProb = inverse_problem.BaseInvProblem(dmisfit, reg, opt)\n",
    "\n",
    "betaest = directives.BetaEstimate_ByEig(beta0_ratio=0.1)\n",
    "target = directives.TargetMisfit()\n",
    "\n",
    "directiveList = [betaest, target]\n",
    "inv = inversion.BaseInversion(invProb, directiveList=directiveList)\n",
    "\n",
    "print(\"The target misfit is {:1.2f}\".format(target.target))"
   ]
  },
  {
   "cell_type": "markdown",
   "metadata": {},
   "source": [
    "## Model m0\n",
    "\n",
    "Model m0 = we don't know where could be burried ice so our model is composed of moraine and air. "
   ]
  },
  {
   "cell_type": "code",
   "execution_count": 13,
   "metadata": {
    "scrolled": true
   },
   "outputs": [
    {
     "data": {
      "text/plain": [
       "(-2.0, 0.0)"
      ]
     },
     "execution_count": 13,
     "metadata": {},
     "output_type": "execute_result"
    },
    {
     "data": {
      "image/png": "[encoded data removed]",
      "text/plain": [
       "<Figure size 432x288 with 2 Axes>"
      ]
     },
     "metadata": {
      "needs_background": "light"
     },
     "output_type": "display_data"
    }
   ],
   "source": [
    "m0 = np.log(sigma_burice) * np.ones(inversion_mesh.nC)\n",
    "m0[1450:] = np.log(sigma_air)\n",
    "\n",
    "fig, ax = plt.subplots(1, 1)\n",
    "cb = plt.colorbar(inversion_mesh.plotImage(m0, ax=ax, grid=True)[0], ax=ax)\n",
    "cb.set_label(\"$\\log(\\sigma)$\")\n",
    "ax.set_title(\"m0 model\")\n",
    "ax.set_xlim([-10, 10])\n",
    "ax.set_ylim([-2, 0])"
   ]
  },
  {
   "cell_type": "markdown",
   "metadata": {},
   "source": [
    "## Run the inversion\n",
    "\n",
    "We start from a half-space equal to the deep conductivity.\n",
    "\n"
   ]
  },
  {
   "cell_type": "code",
   "execution_count": null,
   "metadata": {},
   "outputs": [
    {
     "name": "stdout",
     "output_type": "stream",
     "text": [
      "SimPEG.InvProblem will set Regularization.mref to m0.\n",
      "\n",
      "        SimPEG.InvProblem is setting bfgsH0 to the inverse of the eval2Deriv.\n",
      "        ***Done using same Solver and solverOpts as the problem***\n",
      "model has any nan: 0\n",
      "============================ Inexact Gauss Newton ============================\n",
      "  #     beta     phi_d     phi_m       f      |proj(x-g)-x|  LS    Comment   \n",
      "-----------------------------------------------------------------------------\n",
      "x0 has any nan: 0\n",
      "   0  9.37e-06  7.57e+02  6.75e+01  7.57e+02    6.12e-01      0              \n",
      "   1  9.37e-06  6.81e+02  6.38e+02  6.81e+02    8.67e+00      6              \n",
      "   2  9.37e-06  4.87e+02  1.97e+03  4.87e+02    2.10e+02      3              \n",
      "   3  9.37e-06  2.89e+02  2.03e+03  2.89e+02    1.87e+02      0              \n",
      "   4  9.37e-06  1.35e+02  1.92e+03  1.35e+02    2.45e+01      0              \n"
     ]
    }
   ],
   "source": [
    "t = time.time()\n",
    "mrec = inv.run(m0)\n",
    "print(\"\\n Inversion Complete. Elapsed Time = {:1.2f} s\".format(time.time() - t))"
   ]
  },
  {
   "cell_type": "markdown",
   "metadata": {},
   "source": [
    "## Plot the predicted and observed data\n",
    "\n",
    "\n"
   ]
  },
  {
   "cell_type": "code",
   "execution_count": null,
   "metadata": {},
   "outputs": [],
   "source": [
    "fig, ax = plt.subplots(1, 3, figsize=(15, 5))\n",
    "plot_data(dclean, ax=ax, color=\"C0\", label=\"true\")\n",
    "plot_data(invProb.dpred, ax=ax, color=\"C1\", label=\"predicted\")"
   ]
  },
  {
   "cell_type": "markdown",
   "metadata": {},
   "source": [
    "## Plot the recovered model\n",
    "\n",
    "\n"
   ]
  },
  {
   "cell_type": "code",
   "execution_count": null,
   "metadata": {},
   "outputs": [],
   "source": [
    "fig, ax = plt.subplots(1, 2, figsize=(12, 5))\n",
    "\n",
    "# put both plots on the same colorbar\n",
    "clim = np.r_[np.log(sigma_air), np.log(sigma_tills)]\n",
    "\n",
    "# recovered model\n",
    "cb = plt.colorbar(inversion_mesh.plotImage(mrec, ax=ax[0], clim=clim)[0], ax=ax[0],)\n",
    "ax[0].set_title(\"recovered model\")\n",
    "cb.set_label(\"$\\log(\\sigma)$\")\n",
    "\n",
    "# true model\n",
    "cb = plt.colorbar(inversion_mesh.plotImage(m_true, ax=ax[1], clim=clim)[0], ax=ax[1],)\n",
    "ax[1].set_title(\"true model\")\n",
    "cb.set_label(\"$\\log(\\sigma)$\")\n",
    "\n",
    "# # uncomment to plot the true interface\n",
    "# x = np.linspace(-10, 10, 50)\n",
    "# [a.plot(x, interface(x), 'k') for a in ax]\n",
    "\n",
    "[a.set_xlim([-10, 10]) for a in ax]\n",
    "[a.set_ylim([-2, 0]) for a in ax]\n",
    "\n",
    "plt.tight_layout()\n",
    "plt.show()"
   ]
  },
  {
   "cell_type": "markdown",
   "metadata": {},
   "source": [
    "## Print the version of SimPEG and dependencies\n",
    "\n",
    "\n"
   ]
  },
  {
   "cell_type": "code",
   "execution_count": null,
   "metadata": {
    "scrolled": true
   },
   "outputs": [],
   "source": [
    "Report()"
   ]
  },
  {
   "cell_type": "code",
   "execution_count": null,
   "metadata": {},
   "outputs": [],
   "source": [
    "SendEmail(\"2D inversion FDEM\", \"Finito\")"
   ]
  }
 ],
 "metadata": {
  "kernelspec": {
   "display_name": "Python 3",
   "language": "python",
   "name": "python3"
  },
  "language_info": {
   "codemirror_mode": {
    "name": "ipython",
    "version": 3
   },
   "file_extension": ".py",
   "mimetype": "text/x-python",
   "name": "python",
   "nbconvert_exporter": "python",
   "pygments_lexer": "ipython3",
   "version": "3.7.9"
  }
 },
 "nbformat": 4,
 "nbformat_minor": 1
}
