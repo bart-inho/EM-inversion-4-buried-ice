{
 "cells": [
  {
   "cell_type": "markdown",
   "id": "guided-discovery",
   "metadata": {},
   "source": [
    "# FDEM inv 1D "
   ]
  },
  {
   "cell_type": "code",
   "execution_count": 1,
   "id": "absolute-shock",
   "metadata": {},
   "outputs": [],
   "source": [
    "import discretize\n",
    "from SimPEG import (\n",
    "    maps,\n",
    "    utils,\n",
    "    data_misfit,\n",
    "    regularization,\n",
    "    optimization,\n",
    "    inversion,\n",
    "    inverse_problem,\n",
    "    directives,\n",
    ")\n",
    "import numpy as np\n",
    "from SimPEG.electromagnetics import frequency_domain as FDEM, time_domain as TDEM, mu_0\n",
    "import matplotlib.pyplot as plt"
   ]
  },
  {
   "cell_type": "markdown",
   "id": "signed-peeing",
   "metadata": {},
   "source": [
    "## Mesh and mapping"
   ]
  },
  {
   "cell_type": "code",
   "execution_count": 2,
   "id": "governmental-client",
   "metadata": {
    "scrolled": false
   },
   "outputs": [
    {
     "data": {
      "text/plain": [
       "Text(0.5, 1.0, 'Tensor Mesh')"
      ]
     },
     "execution_count": 2,
     "metadata": {},
     "output_type": "execute_result"
    },
    {
     "data": {
      "image/png": "[encoded data removed]",
      "text/plain": [
       "<Figure size 432x432 with 1 Axes>"
      ]
     },
     "metadata": {
      "needs_background": "light"
     },
     "output_type": "display_data"
    }
   ],
   "source": [
    "cs, ncx, ncz, npad = 5.0, 25, 15, 15\n",
    "hx = [(cs, ncx), (cs, npad, 1.3)]\n",
    "hz = [(cs, npad, -1.3), (cs, ncz), (cs, npad, 1.3)]\n",
    "mesh = discretize.CylMesh([hx, 1, hz], \"00C\")\n",
    "\n",
    "active = mesh.vectorCCz < 0.0\n",
    "layer = (mesh.vectorCCz < 0.0) & (mesh.vectorCCz >= -100.0)\n",
    "actMap = maps.InjectActiveCells(mesh, active, np.log(1e-8), nC=mesh.nCz)\n",
    "mapping = maps.ExpMap(mesh) * maps.SurjectVertical1D(mesh) * actMap\n",
    "\n",
    "# We can apply the plotGrid method and output to a specified axes object\n",
    "fig = plt.figure(figsize=(6, 6))\n",
    "ax = fig.add_subplot(111)\n",
    "mesh.plotGrid(ax=ax)\n",
    "ax.set_title(\"Tensor Mesh\")"
   ]
  },
  {
   "cell_type": "code",
   "execution_count": 3,
   "id": "distinct-strengthening",
   "metadata": {},
   "outputs": [],
   "source": [
    "layerz = np.r_[-200.0, -100.0]\n",
    "layer = (mesh.vectorCCz >= layerz[0]) & (mesh.vectorCCz <= layerz[1])\n",
    "active = mesh.vectorCCz < 0.0\n",
    "sigma_tills = 1.1e-4\n",
    "sigma_air = 1e-8\n",
    "sigma_burice = 1.25e-6\n",
    "sigma = np.ones(mesh.nCz) * sigma_air\n",
    "sigma[active] = sigma_tills\n",
    "sigma[layer] = sigma_burice\n",
    "mtrue = np.log(sigma[active])"
   ]
  },
  {
   "cell_type": "code",
   "execution_count": 4,
   "id": "hispanic-words",
   "metadata": {},
   "outputs": [
    {
     "data": {
      "text/plain": [
       "[<matplotlib.lines.Line2D at 0x172304ebdc8>]"
      ]
     },
     "execution_count": 4,
     "metadata": {},
     "output_type": "execute_result"
    },
    {
     "data": {
      "image/png": "[encoded data removed]",
      "text/plain": [
       "<Figure size 432x288 with 1 Axes>"
      ]
     },
     "metadata": {
      "needs_background": "light"
     },
     "output_type": "display_data"
    }
   ],
   "source": [
    "plt.plot(mtrue)"
   ]
  },
  {
   "cell_type": "markdown",
   "id": "classified-fight",
   "metadata": {},
   "source": [
    "## Conductivity model"
   ]
  },
  {
   "cell_type": "code",
   "execution_count": 5,
   "id": "lightweight-christmas",
   "metadata": {},
   "outputs": [],
   "source": [
    "activeN = mesh.vectorNz <= 0.0 + cs / 2.0\n",
    "sigma_true = np.repeat(sigma[active], 2, axis=0)\n",
    "z_true = np.repeat(mesh.vectorNz[activeN][1:-1], 2, axis=0)\n",
    "z_true = np.r_[mesh.vectorNz[activeN][0], z_true, mesh.vectorNz[activeN][-1]]"
   ]
  },
  {
   "cell_type": "code",
   "execution_count": 6,
   "id": "sexual-palmer",
   "metadata": {},
   "outputs": [
    {
     "data": {
      "text/plain": [
       "[<matplotlib.lines.Line2D at 0x1722fcfda08>]"
      ]
     },
     "execution_count": 6,
     "metadata": {},
     "output_type": "execute_result"
    },
    {
     "data": {
      "image/png": "[encoded data removed]",
      "text/plain": [
       "<Figure size 288x576 with 1 Axes>"
      ]
     },
     "metadata": {
      "needs_background": "light"
     },
     "output_type": "display_data"
    }
   ],
   "source": [
    "plt.figure(figsize=(4, 8))\n",
    "plt.ylim((-700, 0))\n",
    "plt.semilogx(sigma_true, z_true, \"k-\", lw=2, label=\"True\")"
   ]
  },
  {
   "cell_type": "markdown",
   "id": "imposed-comfort",
   "metadata": {},
   "source": [
    "## FDEM survey"
   ]
  },
  {
   "cell_type": "code",
   "execution_count": 7,
   "id": "satisfactory-rugby",
   "metadata": {},
   "outputs": [],
   "source": [
    "rxlocs = utils.ndgrid([np.r_[50.0], np.r_[0], np.r_[0.0]])\n",
    "bzr = FDEM.Rx.PointMagneticFluxDensitySecondary(rxlocs, \"z\", \"real\")\n",
    "bzi = FDEM.Rx.PointMagneticFluxDensitySecondary(rxlocs, \"z\", \"imag\")\n",
    "freqs = np.logspace(2, 3, 10) # choosing frequencies\n",
    "srcLoc = np.array([0.0, 0.0, 0.0])"
   ]
  },
  {
   "cell_type": "markdown",
   "id": "magnetic-royal",
   "metadata": {},
   "source": [
    "List with that contains all the frquencies"
   ]
  },
  {
   "cell_type": "code",
   "execution_count": 8,
   "id": "sunset-profession",
   "metadata": {},
   "outputs": [],
   "source": [
    "srcList = [FDEM.Src.MagDipole([bzr, bzi], freq, srcLoc, orientation=\"Z\") for freq in freqs]"
   ]
  },
  {
   "cell_type": "markdown",
   "id": "manual-devices",
   "metadata": {},
   "source": [
    "Survey FDEM"
   ]
  },
  {
   "cell_type": "code",
   "execution_count": 9,
   "id": "every-orientation",
   "metadata": {},
   "outputs": [],
   "source": [
    "surveyFD = FDEM.Survey(srcList)\n",
    "prbFD = FDEM.Simulation3DMagneticFluxDensity(\n",
    "    mesh, survey=surveyFD, sigmaMap=mapping)"
   ]
  },
  {
   "cell_type": "markdown",
   "id": "surgical-minutes",
   "metadata": {},
   "source": [
    "## Creating Data"
   ]
  },
  {
   "cell_type": "markdown",
   "id": "representative-ocean",
   "metadata": {},
   "source": [
    "Error and synthetic datas"
   ]
  },
  {
   "cell_type": "code",
   "execution_count": 10,
   "id": "thirty-nudist",
   "metadata": {},
   "outputs": [],
   "source": [
    "rel_err = 0.03\n",
    "dataFD = prbFD.make_synthetic_data(mtrue, relative_error=rel_err, add_noise=True)\n",
    "dataFD.noise_floor = np.linalg.norm(dataFD.dclean) * 1e-5"
   ]
  },
  {
   "cell_type": "markdown",
   "id": "ethical-immigration",
   "metadata": {},
   "source": [
    "## Inversion "
   ]
  },
  {
   "cell_type": "code",
   "execution_count": 11,
   "id": "posted-miniature",
   "metadata": {},
   "outputs": [],
   "source": [
    "np.random.seed(1)\n",
    "dmisfit = data_misfit.L2DataMisfit(simulation=prbFD, data=dataFD)\n",
    "regMesh = discretize.TensorMesh([mesh.hz[mapping.maps[-1].indActive]])\n",
    "reg = regularization.Simple(regMesh)\n",
    "opt = optimization.InexactGaussNewton(maxIterCG=10)\n",
    "invProb = inverse_problem.BaseInvProblem(dmisfit, reg, opt)"
   ]
  },
  {
   "cell_type": "markdown",
   "id": "miniature-brooks",
   "metadata": {},
   "source": [
    "## Inversion parameters"
   ]
  },
  {
   "cell_type": "code",
   "execution_count": 14,
   "id": "angry-horse",
   "metadata": {},
   "outputs": [
    {
     "name": "stdout",
     "output_type": "stream",
     "text": [
      "The callback on the InexactGaussNewton Optimization was replaced.\n",
      "\n",
      "        SimPEG.InvProblem is setting bfgsH0 to the inverse of the eval2Deriv.\n",
      "        ***Done using same Solver and solverOpts as the problem***\n",
      "model has any nan: 0\n",
      "============================ Inexact Gauss Newton ============================\n",
      "  #     beta     phi_d     phi_m       f      |proj(x-g)-x|  LS    Comment   \n",
      "-----------------------------------------------------------------------------\n",
      "x0 has any nan: 0\n",
      "   0 -1.50e+03  8.44e+02  0.00e+00  8.44e+02    2.43e+03      0              \n",
      "   1 -1.50e+03  1.06e+01  1.94e-01 -2.80e+02    5.91e+02      0              \n",
      "   2 -1.50e+03  3.63e+02  6.09e-01 -5.51e+02    3.54e+02      0   Skip BFGS  \n",
      "   3 -3.75e+02  2.10e+03  2.55e+00  1.14e+03    5.65e+02      0   Skip BFGS  \n",
      "   4 -3.75e+02  1.61e+02  4.79e-01 -1.85e+01    3.09e+02      1              \n",
      "   5 -3.75e+02  8.47e+01  4.15e-01 -7.10e+01    1.77e+01      0   Skip BFGS  \n",
      "   6 -9.38e+01  7.09e+01  3.79e-01  3.53e+01    1.83e+02      0              \n",
      "------------------------- STOP! -------------------------\n",
      "1 : |fc-fOld| = 0.0000e+00 <= tolF*(1+|f0|) = 8.4521e+01\n",
      "1 : |xc-x_last| = 5.3385e-01 <= tolX*(1+|x0|) = 4.3753e+00\n",
      "0 : |proj(x-g)-x|    = 1.8340e+02 <= tolG          = 1.0000e-01\n",
      "0 : |proj(x-g)-x|    = 1.8340e+02 <= 1e3*eps       = 1.0000e-02\n",
      "0 : maxIter   =      20    <= iter          =      7\n",
      "------------------------- DONE! -------------------------\n"
     ]
    }
   ],
   "source": [
    "beta = directives.BetaSchedule(coolingFactor=4, coolingRate=3)\n",
    "betaest = directives.BetaEstimate_ByEig(beta0_ratio=2.0)\n",
    "target = directives.TargetMisfit()\n",
    "directiveList = [beta, betaest, target]\n",
    "\n",
    "inv = inversion.BaseInversion(invProb, directiveList=directiveList)\n",
    "m0 = np.log(np.ones(mtrue.size) * sigma_tills)\n",
    "reg.alpha_s = 5e-1\n",
    "reg.alpha_x = 1.0\n",
    "prbFD.counter = opt.counter = utils.Counter()\n",
    "opt.remember(\"xc\")\n",
    "moptFD = inv.run(m0)"
   ]
  },
  {
   "cell_type": "markdown",
   "id": "cutting-photograph",
   "metadata": {},
   "source": [
    "## Plot"
   ]
  },
  {
   "cell_type": "code",
   "execution_count": 16,
   "id": "olive-protest",
   "metadata": {},
   "outputs": [
    {
     "data": {
      "text/plain": [
       "<matplotlib.legend.Legend at 0x172356599c8>"
      ]
     },
     "execution_count": 16,
     "metadata": {},
     "output_type": "execute_result"
    },
    {
     "data": {
      "image/png": "[encoded data removed]",
      "text/plain": [
       "<Figure size 576x576 with 1 Axes>"
      ]
     },
     "metadata": {
      "needs_background": "light"
     },
     "output_type": "display_data"
    }
   ],
   "source": [
    "# Plot the model\n",
    "# z_true = np.repeat(mesh.vectorCCz[active][1:], 2, axis=0)\n",
    "# z_true = np.r_[mesh.vectorCCz[active][0], z_true, mesh.vectorCCz[active][-1]]\n",
    "activeN = mesh.vectorNz <= 0.0 + cs / 2.0\n",
    "z_true = np.repeat(mesh.vectorNz[activeN][1:-1], 2, axis=0)\n",
    "z_true = np.r_[mesh.vectorNz[activeN][0], z_true, mesh.vectorNz[activeN][-1]]\n",
    "sigma_true = np.repeat(sigma[active], 2, axis=0)\n",
    "\n",
    "fig, ax = plt.subplots(figsize=(8, 8))\n",
    "ax.semilogx(sigma_true, z_true, \"k-\", lw=2, label=\"True\")\n",
    "\n",
    "ax.semilogx(\n",
    "    np.exp(moptFD),\n",
    "    mesh.vectorCCz[active],\n",
    "    \"bo\",\n",
    "    ms=6,\n",
    "    markeredgecolor=\"k\",\n",
    "    markeredgewidth=0.5,\n",
    "    label=\"FDEM\",\n",
    ")\n",
    "#ax[0].set_ylim(-700, 0)\n",
    "#ax[0].set_xlim(5e-3, 1e-1)\n",
    "\n",
    "ax.set_xlabel(\"Conductivity (S/m)\")\n",
    "ax.set_ylabel(\"Depth (m)\")\n",
    "ax.grid(which=\"both\", color=\"k\", alpha=0.5, linestyle=\"-\", linewidth=0.2)\n",
    "ax.legend(loc=4)\n"
   ]
  },
  {
   "cell_type": "code",
   "execution_count": null,
   "id": "historic-mumbai",
   "metadata": {},
   "outputs": [],
   "source": []
  }
 ],
 "metadata": {
  "kernelspec": {
   "display_name": "Python 3",
   "language": "python",
   "name": "python3"
  },
  "language_info": {
   "codemirror_mode": {
    "name": "ipython",
    "version": 3
   },
   "file_extension": ".py",
   "mimetype": "text/x-python",
   "name": "python",
   "nbconvert_exporter": "python",
   "pygments_lexer": "ipython3",
   "version": "3.7.9"
  }
 },
 "nbformat": 4,
 "nbformat_minor": 5
}
